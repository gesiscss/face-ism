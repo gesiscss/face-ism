{
 "cells": [
  {
   "cell_type": "code",
   "execution_count": 1,
   "id": "e290aca9",
   "metadata": {},
   "outputs": [
    {
     "name": "stderr",
     "output_type": "stream",
     "text": [
      "Loading required package: carData\n",
      "\n"
     ]
    }
   ],
   "source": [
    "library(tidyr)\n",
    "library(car)\n",
    "library(emmeans)\n",
    "\n",
    "# increase the number of characters that can be printed\n",
    "options(\"width\"=200)"
   ]
  },
  {
   "cell_type": "code",
   "execution_count": 2,
   "id": "ea429cab",
   "metadata": {},
   "outputs": [],
   "source": [
    "df <- read.csv(\"data/data.csv\")\n",
    "\n",
    "# only consider the cases with one face\n",
    "df  <- subset(df, df$has_faces == 1)"
   ]
  },
  {
   "cell_type": "markdown",
   "id": "e27dcd32",
   "metadata": {},
   "source": [
    "# Face-ism in the person queries\n"
   ]
  },
  {
   "cell_type": "code",
   "execution_count": 3,
   "id": "9a8658fe",
   "metadata": {},
   "outputs": [],
   "source": [
    "# filter by the query type person, i.e. \"person\" and \"intelligent person\" queries\n",
    "dfp <- subset(df, df$query_type ==\"person\")\n",
    "\n",
    "###create gender variable based on the face\n",
    "dfp$gender <- NA\n",
    "dfp[which(dfp$has_faces_male==1),\"gender\"]<-'Male'\n",
    "dfp[which(dfp$has_faces_female==1),\"gender\"]<-'Female'"
   ]
  },
  {
   "cell_type": "markdown",
   "id": "12cd5ea4",
   "metadata": {},
   "source": [
    "## 1. Anova table"
   ]
  },
  {
   "cell_type": "code",
   "execution_count": 4,
   "id": "f2a20d68",
   "metadata": {},
   "outputs": [
    {
     "name": "stdout",
     "output_type": "stream",
     "text": [
      "Anova Table (Type III tests)\n",
      "\n",
      "Response: faceism\n",
      "                     Sum Sq   Df  F value    Pr(>F)    \n",
      "(Intercept)          15.062    1 399.1859 < 2.2e-16 ***\n",
      "gender                0.138    1   3.6563   0.05590 .  \n",
      "query                 2.028    1  53.7364 2.600e-13 ***\n",
      "engine                0.486    3   4.2923   0.00494 ** \n",
      "region                0.031    2   0.4098   0.66377    \n",
      "browser               0.003    1   0.0794   0.77813    \n",
      "wave                  0.010    1   0.2539   0.61435    \n",
      "gender:query          1.322    1  35.0238 3.439e-09 ***\n",
      "gender:engine         3.562    3  31.4651 < 2.2e-16 ***\n",
      "query:engine          3.275    3  28.9347 < 2.2e-16 ***\n",
      "gender:query:engine   2.606    3  23.0262 8.163e-15 ***\n",
      "Residuals           223.521 5924                       \n",
      "---\n",
      "Signif. codes:  0 ‘***’ 0.001 ‘**’ 0.01 ‘*’ 0.05 ‘.’ 0.1 ‘ ’ 1\n"
     ]
    }
   ],
   "source": [
    "# fit the model\n",
    "fit <- lm(faceism ~ gender*query*engine+region+browser+wave, data=dfp)\n",
    "\n",
    "# display general anova table (factors and interactions only)\n",
    "print(Anova(fit, type=\"III\"))"
   ]
  },
  {
   "cell_type": "markdown",
   "id": "16526015",
   "metadata": {},
   "source": [
    "## 2. Contrast tests"
   ]
  },
  {
   "cell_type": "markdown",
   "id": "63ed32ef",
   "metadata": {},
   "source": [
    "### 2.1 Accross search engines"
   ]
  },
  {
   "cell_type": "code",
   "execution_count": 5,
   "id": "0ac826c9",
   "metadata": {},
   "outputs": [
    {
     "name": "stdout",
     "output_type": "stream",
     "text": [
      "engine = Baidu:\n",
      " contrast                                            estimate      SE   df t.ratio p.value\n",
      " intelligent person Female - person Female            0.18191 0.02482 5924   7.331  <.0001\n",
      " intelligent person Female - intelligent person Male  0.05324 0.02784 5924   1.912  0.2229\n",
      " intelligent person Female - person Male              0.00935 0.03005 5924   0.311  0.9896\n",
      " person Female - intelligent person Male             -0.12866 0.02351 5924  -5.474  <.0001\n",
      " person Female - person Male                         -0.17256 0.02608 5924  -6.616  <.0001\n",
      " intelligent person Male - person Male               -0.04390 0.02898 5924  -1.515  0.4287\n",
      "\n",
      "engine = Bing:\n",
      " contrast                                            estimate      SE   df t.ratio p.value\n",
      " intelligent person Female - person Female           -0.05405 0.01495 5924  -3.615  0.0017\n",
      " intelligent person Female - intelligent person Male -0.04299 0.01356 5924  -3.170  0.0083\n",
      " intelligent person Female - person Male             -0.08117 0.01328 5924  -6.112  <.0001\n",
      " person Female - intelligent person Male              0.01107 0.01194 5924   0.927  0.7906\n",
      " person Female - person Male                         -0.02712 0.01161 5924  -2.336  0.0901\n",
      " intelligent person Male - person Male               -0.03818 0.00977 5924  -3.909  0.0005\n",
      "\n",
      "engine = Google:\n",
      " contrast                                            estimate      SE   df t.ratio p.value\n",
      " intelligent person Female - person Female           -0.09320 0.01866 5924  -4.996  <.0001\n",
      " intelligent person Female - intelligent person Male -0.20198 0.01901 5924 -10.626  <.0001\n",
      " intelligent person Female - person Male             -0.15692 0.01892 5924  -8.295  <.0001\n",
      " person Female - intelligent person Male             -0.10877 0.01387 5924  -7.844  <.0001\n",
      " person Female - person Male                         -0.06371 0.01374 5924  -4.637  <.0001\n",
      " intelligent person Male - person Male                0.04506 0.01422 5924   3.169  0.0084\n",
      "\n",
      "engine = Yandex:\n",
      " contrast                                            estimate      SE   df t.ratio p.value\n",
      " intelligent person Female - person Female           -0.03243 0.01998 5924  -1.623  0.3655\n",
      " intelligent person Female - intelligent person Male  0.01428 0.01583 5924   0.902  0.8038\n",
      " intelligent person Female - person Male              0.04729 0.01532 5924   3.087  0.0109\n",
      " person Female - intelligent person Male              0.04672 0.01638 5924   2.852  0.0226\n",
      " person Female - person Male                          0.07972 0.01589 5924   5.019  <.0001\n",
      " intelligent person Male - person Male                0.03301 0.01019 5924   3.240  0.0066\n",
      "\n",
      "Results are averaged over the levels of: region, browser, wave \n",
      "P value adjustment: tukey method for comparing a family of 4 estimates \n"
     ]
    }
   ],
   "source": [
    "# full table of contrasts by search engine including. The interactions include those across \n",
    "# queries, but we only report the ones within the query term (i.e. \"person Female / person Male\" \n",
    "# and intelligent person Female / person Male\")\n",
    "pairs_engine <- pairs(emmeans(fit, ~ query * gender | engine),type = \"response\")\n",
    "\n",
    "# print the pairs\n",
    "print(pairs_engine)"
   ]
  },
  {
   "cell_type": "markdown",
   "id": "1619ad53",
   "metadata": {},
   "source": [
    "### 2.2 Accross interactions"
   ]
  },
  {
   "cell_type": "code",
   "execution_count": 6,
   "id": "7ab51d21",
   "metadata": {},
   "outputs": [
    {
     "name": "stdout",
     "output_type": "stream",
     "text": [
      "engine = Baidu:\n",
      " query_pairwise              gender_pairwise estimate     SE   df t.ratio p.value\n",
      " intelligent person - person Female - Male     0.2258 0.0382 5924   5.918  <.0001\n",
      "\n",
      "engine = Bing:\n",
      " query_pairwise              gender_pairwise estimate     SE   df t.ratio p.value\n",
      " intelligent person - person Female - Male    -0.0159 0.0179 5924  -0.889  0.3741\n",
      "\n",
      "engine = Google:\n",
      " query_pairwise              gender_pairwise estimate     SE   df t.ratio p.value\n",
      " intelligent person - person Female - Male    -0.1383 0.0235 5924  -5.894  <.0001\n",
      "\n",
      "engine = Yandex:\n",
      " query_pairwise              gender_pairwise estimate     SE   df t.ratio p.value\n",
      " intelligent person - person Female - Male    -0.0654 0.0224 5924  -2.918  0.0035\n",
      "\n",
      "Results are averaged over the levels of: region, browser, wave \n"
     ]
    }
   ],
   "source": [
    "# full table of contrasts by interactions of search engine and query\n",
    "# we only report the ones within the query term (i.e. \"person Female / person Mal\" and\n",
    "# intelligent person Female / person Male\")\n",
    "pairs_interaction <- pairs(emmeans(fit, ~ query * gender  | engine,type = \"response\"), interaction = \"pairwise\")\n",
    "\n",
    "# print the pairs\n",
    "print(pairs_interaction)"
   ]
  },
  {
   "cell_type": "markdown",
   "id": "95183e83",
   "metadata": {},
   "source": [
    "## 3 Confidence intervals"
   ]
  },
  {
   "cell_type": "markdown",
   "id": "2b25ea4e",
   "metadata": {},
   "source": [
    "### 3.1 Accross search engines"
   ]
  },
  {
   "cell_type": "code",
   "execution_count": 7,
   "id": "955b498d",
   "metadata": {},
   "outputs": [
    {
     "data": {
      "text/html": [
       "<table class=\"dataframe\">\n",
       "<caption>A data.frame: 24 × 4</caption>\n",
       "<thead>\n",
       "\t<tr><th></th><th scope=col>contrast</th><th scope=col>engine</th><th scope=col>lower.CL</th><th scope=col>upper.CL</th></tr>\n",
       "\t<tr><th></th><th scope=col>&lt;fct&gt;</th><th scope=col>&lt;fct&gt;</th><th scope=col>&lt;dbl&gt;</th><th scope=col>&lt;dbl&gt;</th></tr>\n",
       "</thead>\n",
       "<tbody>\n",
       "\t<tr><th scope=row>1</th><td>intelligent person Female - person Female          </td><td>Baidu </td><td> 0.118138202</td><td> 0.245675629</td></tr>\n",
       "\t<tr><th scope=row>2</th><td>intelligent person Female - intelligent person Male</td><td>Baidu </td><td>-0.018310998</td><td> 0.124798102</td></tr>\n",
       "\t<tr><th scope=row>3</th><td>intelligent person Female - person Male            </td><td>Baidu </td><td>-0.067871867</td><td> 0.086568590</td></tr>\n",
       "\t<tr><th scope=row>4</th><td>person Female - intelligent person Male            </td><td>Baidu </td><td>-0.189067520</td><td>-0.068259207</td></tr>\n",
       "\t<tr><th scope=row>5</th><td>person Female - person Male                        </td><td>Baidu </td><td>-0.239584201</td><td>-0.105532906</td></tr>\n",
       "\t<tr><th scope=row>6</th><td>intelligent person Male - person Male              </td><td>Baidu </td><td>-0.118367386</td><td> 0.030577005</td></tr>\n",
       "\t<tr><th scope=row>7</th><td>intelligent person Female - person Female          </td><td>Bing  </td><td>-0.092479273</td><td>-0.015626097</td></tr>\n",
       "\t<tr><th scope=row>8</th><td>intelligent person Female - intelligent person Male</td><td>Bing  </td><td>-0.077834552</td><td>-0.008138150</td></tr>\n",
       "\t<tr><th scope=row>9</th><td>intelligent person Female - person Male            </td><td>Bing  </td><td>-0.115300248</td><td>-0.047041857</td></tr>\n",
       "\t<tr><th scope=row>10</th><td>person Female - intelligent person Male            </td><td>Bing  </td><td>-0.019621440</td><td> 0.041754109</td></tr>\n",
       "\t<tr><th scope=row>11</th><td>person Female - person Male                        </td><td>Bing  </td><td>-0.056950435</td><td> 0.002713701</td></tr>\n",
       "\t<tr><th scope=row>12</th><td>intelligent person Male - person Male              </td><td>Bing  </td><td>-0.063286217</td><td>-0.013083186</td></tr>\n",
       "\t<tr><th scope=row>13</th><td>intelligent person Female - person Female          </td><td>Google</td><td>-0.141142549</td><td>-0.045263658</td></tr>\n",
       "\t<tr><th scope=row>14</th><td>intelligent person Female - intelligent person Male</td><td>Google</td><td>-0.250821796</td><td>-0.153128886</td></tr>\n",
       "\t<tr><th scope=row>15</th><td>intelligent person Female - person Male            </td><td>Google</td><td>-0.205524280</td><td>-0.108306370</td></tr>\n",
       "\t<tr><th scope=row>16</th><td>person Female - intelligent person Male            </td><td>Google</td><td>-0.144404741</td><td>-0.073139735</td></tr>\n",
       "\t<tr><th scope=row>17</th><td>person Female - person Male                        </td><td>Google</td><td>-0.099024042</td><td>-0.028400402</td></tr>\n",
       "\t<tr><th scope=row>18</th><td>intelligent person Male - person Male              </td><td>Google</td><td> 0.008525288</td><td> 0.081594744</td></tr>\n",
       "\t<tr><th scope=row>19</th><td>intelligent person Female - person Female          </td><td>Yandex</td><td>-0.083779073</td><td> 0.018912742</td></tr>\n",
       "\t<tr><th scope=row>20</th><td>intelligent person Female - intelligent person Male</td><td>Yandex</td><td>-0.026409595</td><td> 0.054974224</td></tr>\n",
       "\t<tr><th scope=row>21</th><td>intelligent person Female - person Male            </td><td>Yandex</td><td> 0.007924974</td><td> 0.086652152</td></tr>\n",
       "\t<tr><th scope=row>22</th><td>person Female - intelligent person Male            </td><td>Yandex</td><td> 0.004618225</td><td> 0.088812737</td></tr>\n",
       "\t<tr><th scope=row>23</th><td>person Female - person Male                        </td><td>Yandex</td><td> 0.038900629</td><td> 0.120542828</td></tr>\n",
       "\t<tr><th scope=row>24</th><td>intelligent person Male - person Male              </td><td>Yandex</td><td> 0.006827036</td><td> 0.059185459</td></tr>\n",
       "</tbody>\n",
       "</table>\n"
      ],
      "text/latex": [
       "A data.frame: 24 × 4\n",
       "\\begin{tabular}{r|llll}\n",
       "  & contrast & engine & lower.CL & upper.CL\\\\\n",
       "  & <fct> & <fct> & <dbl> & <dbl>\\\\\n",
       "\\hline\n",
       "\t1 & intelligent person Female - person Female           & Baidu  &  0.118138202 &  0.245675629\\\\\n",
       "\t2 & intelligent person Female - intelligent person Male & Baidu  & -0.018310998 &  0.124798102\\\\\n",
       "\t3 & intelligent person Female - person Male             & Baidu  & -0.067871867 &  0.086568590\\\\\n",
       "\t4 & person Female - intelligent person Male             & Baidu  & -0.189067520 & -0.068259207\\\\\n",
       "\t5 & person Female - person Male                         & Baidu  & -0.239584201 & -0.105532906\\\\\n",
       "\t6 & intelligent person Male - person Male               & Baidu  & -0.118367386 &  0.030577005\\\\\n",
       "\t7 & intelligent person Female - person Female           & Bing   & -0.092479273 & -0.015626097\\\\\n",
       "\t8 & intelligent person Female - intelligent person Male & Bing   & -0.077834552 & -0.008138150\\\\\n",
       "\t9 & intelligent person Female - person Male             & Bing   & -0.115300248 & -0.047041857\\\\\n",
       "\t10 & person Female - intelligent person Male             & Bing   & -0.019621440 &  0.041754109\\\\\n",
       "\t11 & person Female - person Male                         & Bing   & -0.056950435 &  0.002713701\\\\\n",
       "\t12 & intelligent person Male - person Male               & Bing   & -0.063286217 & -0.013083186\\\\\n",
       "\t13 & intelligent person Female - person Female           & Google & -0.141142549 & -0.045263658\\\\\n",
       "\t14 & intelligent person Female - intelligent person Male & Google & -0.250821796 & -0.153128886\\\\\n",
       "\t15 & intelligent person Female - person Male             & Google & -0.205524280 & -0.108306370\\\\\n",
       "\t16 & person Female - intelligent person Male             & Google & -0.144404741 & -0.073139735\\\\\n",
       "\t17 & person Female - person Male                         & Google & -0.099024042 & -0.028400402\\\\\n",
       "\t18 & intelligent person Male - person Male               & Google &  0.008525288 &  0.081594744\\\\\n",
       "\t19 & intelligent person Female - person Female           & Yandex & -0.083779073 &  0.018912742\\\\\n",
       "\t20 & intelligent person Female - intelligent person Male & Yandex & -0.026409595 &  0.054974224\\\\\n",
       "\t21 & intelligent person Female - person Male             & Yandex &  0.007924974 &  0.086652152\\\\\n",
       "\t22 & person Female - intelligent person Male             & Yandex &  0.004618225 &  0.088812737\\\\\n",
       "\t23 & person Female - person Male                         & Yandex &  0.038900629 &  0.120542828\\\\\n",
       "\t24 & intelligent person Male - person Male               & Yandex &  0.006827036 &  0.059185459\\\\\n",
       "\\end{tabular}\n"
      ],
      "text/markdown": [
       "\n",
       "A data.frame: 24 × 4\n",
       "\n",
       "| <!--/--> | contrast &lt;fct&gt; | engine &lt;fct&gt; | lower.CL &lt;dbl&gt; | upper.CL &lt;dbl&gt; |\n",
       "|---|---|---|---|---|\n",
       "| 1 | intelligent person Female - person Female           | Baidu  |  0.118138202 |  0.245675629 |\n",
       "| 2 | intelligent person Female - intelligent person Male | Baidu  | -0.018310998 |  0.124798102 |\n",
       "| 3 | intelligent person Female - person Male             | Baidu  | -0.067871867 |  0.086568590 |\n",
       "| 4 | person Female - intelligent person Male             | Baidu  | -0.189067520 | -0.068259207 |\n",
       "| 5 | person Female - person Male                         | Baidu  | -0.239584201 | -0.105532906 |\n",
       "| 6 | intelligent person Male - person Male               | Baidu  | -0.118367386 |  0.030577005 |\n",
       "| 7 | intelligent person Female - person Female           | Bing   | -0.092479273 | -0.015626097 |\n",
       "| 8 | intelligent person Female - intelligent person Male | Bing   | -0.077834552 | -0.008138150 |\n",
       "| 9 | intelligent person Female - person Male             | Bing   | -0.115300248 | -0.047041857 |\n",
       "| 10 | person Female - intelligent person Male             | Bing   | -0.019621440 |  0.041754109 |\n",
       "| 11 | person Female - person Male                         | Bing   | -0.056950435 |  0.002713701 |\n",
       "| 12 | intelligent person Male - person Male               | Bing   | -0.063286217 | -0.013083186 |\n",
       "| 13 | intelligent person Female - person Female           | Google | -0.141142549 | -0.045263658 |\n",
       "| 14 | intelligent person Female - intelligent person Male | Google | -0.250821796 | -0.153128886 |\n",
       "| 15 | intelligent person Female - person Male             | Google | -0.205524280 | -0.108306370 |\n",
       "| 16 | person Female - intelligent person Male             | Google | -0.144404741 | -0.073139735 |\n",
       "| 17 | person Female - person Male                         | Google | -0.099024042 | -0.028400402 |\n",
       "| 18 | intelligent person Male - person Male               | Google |  0.008525288 |  0.081594744 |\n",
       "| 19 | intelligent person Female - person Female           | Yandex | -0.083779073 |  0.018912742 |\n",
       "| 20 | intelligent person Female - intelligent person Male | Yandex | -0.026409595 |  0.054974224 |\n",
       "| 21 | intelligent person Female - person Male             | Yandex |  0.007924974 |  0.086652152 |\n",
       "| 22 | person Female - intelligent person Male             | Yandex |  0.004618225 |  0.088812737 |\n",
       "| 23 | person Female - person Male                         | Yandex |  0.038900629 |  0.120542828 |\n",
       "| 24 | intelligent person Male - person Male               | Yandex |  0.006827036 |  0.059185459 |\n",
       "\n"
      ],
      "text/plain": [
       "   contrast                                            engine lower.CL     upper.CL    \n",
       "1  intelligent person Female - person Female           Baidu   0.118138202  0.245675629\n",
       "2  intelligent person Female - intelligent person Male Baidu  -0.018310998  0.124798102\n",
       "3  intelligent person Female - person Male             Baidu  -0.067871867  0.086568590\n",
       "4  person Female - intelligent person Male             Baidu  -0.189067520 -0.068259207\n",
       "5  person Female - person Male                         Baidu  -0.239584201 -0.105532906\n",
       "6  intelligent person Male - person Male               Baidu  -0.118367386  0.030577005\n",
       "7  intelligent person Female - person Female           Bing   -0.092479273 -0.015626097\n",
       "8  intelligent person Female - intelligent person Male Bing   -0.077834552 -0.008138150\n",
       "9  intelligent person Female - person Male             Bing   -0.115300248 -0.047041857\n",
       "10 person Female - intelligent person Male             Bing   -0.019621440  0.041754109\n",
       "11 person Female - person Male                         Bing   -0.056950435  0.002713701\n",
       "12 intelligent person Male - person Male               Bing   -0.063286217 -0.013083186\n",
       "13 intelligent person Female - person Female           Google -0.141142549 -0.045263658\n",
       "14 intelligent person Female - intelligent person Male Google -0.250821796 -0.153128886\n",
       "15 intelligent person Female - person Male             Google -0.205524280 -0.108306370\n",
       "16 person Female - intelligent person Male             Google -0.144404741 -0.073139735\n",
       "17 person Female - person Male                         Google -0.099024042 -0.028400402\n",
       "18 intelligent person Male - person Male               Google  0.008525288  0.081594744\n",
       "19 intelligent person Female - person Female           Yandex -0.083779073  0.018912742\n",
       "20 intelligent person Female - intelligent person Male Yandex -0.026409595  0.054974224\n",
       "21 intelligent person Female - person Male             Yandex  0.007924974  0.086652152\n",
       "22 person Female - intelligent person Male             Yandex  0.004618225  0.088812737\n",
       "23 person Female - person Male                         Yandex  0.038900629  0.120542828\n",
       "24 intelligent person Male - person Male               Yandex  0.006827036  0.059185459"
      ]
     },
     "metadata": {},
     "output_type": "display_data"
    }
   ],
   "source": [
    "# the confidence intervals here correspond to the ones in section 2.1\n",
    "confint(pairs_engine)[,c(1,2,6,7)]"
   ]
  },
  {
   "cell_type": "markdown",
   "id": "1c9dbcdc",
   "metadata": {},
   "source": [
    "### 3.2 Accross interactions"
   ]
  },
  {
   "cell_type": "code",
   "execution_count": 8,
   "id": "12ad7b58",
   "metadata": {},
   "outputs": [
    {
     "data": {
      "text/html": [
       "<table class=\"dataframe\">\n",
       "<caption>A data.frame: 4 × 5</caption>\n",
       "<thead>\n",
       "\t<tr><th></th><th scope=col>query_pairwise</th><th scope=col>gender_pairwise</th><th scope=col>engine</th><th scope=col>lower.CL</th><th scope=col>upper.CL</th></tr>\n",
       "\t<tr><th></th><th scope=col>&lt;fct&gt;</th><th scope=col>&lt;fct&gt;</th><th scope=col>&lt;fct&gt;</th><th scope=col>&lt;dbl&gt;</th><th scope=col>&lt;dbl&gt;</th></tr>\n",
       "</thead>\n",
       "<tbody>\n",
       "\t<tr><th scope=row>1</th><td>intelligent person - person</td><td>Female - Male</td><td>Baidu </td><td> 0.15100529</td><td> 0.30059892</td></tr>\n",
       "\t<tr><th scope=row>2</th><td>intelligent person - person</td><td>Female - Male</td><td>Bing  </td><td>-0.05086397</td><td> 0.01912800</td></tr>\n",
       "\t<tr><th scope=row>3</th><td>intelligent person - person</td><td>Female - Male</td><td>Google</td><td>-0.18424630</td><td>-0.09227994</td></tr>\n",
       "\t<tr><th scope=row>4</th><td>intelligent person - person</td><td>Female - Male</td><td>Yandex</td><td>-0.10940997</td><td>-0.02146886</td></tr>\n",
       "</tbody>\n",
       "</table>\n"
      ],
      "text/latex": [
       "A data.frame: 4 × 5\n",
       "\\begin{tabular}{r|lllll}\n",
       "  & query\\_pairwise & gender\\_pairwise & engine & lower.CL & upper.CL\\\\\n",
       "  & <fct> & <fct> & <fct> & <dbl> & <dbl>\\\\\n",
       "\\hline\n",
       "\t1 & intelligent person - person & Female - Male & Baidu  &  0.15100529 &  0.30059892\\\\\n",
       "\t2 & intelligent person - person & Female - Male & Bing   & -0.05086397 &  0.01912800\\\\\n",
       "\t3 & intelligent person - person & Female - Male & Google & -0.18424630 & -0.09227994\\\\\n",
       "\t4 & intelligent person - person & Female - Male & Yandex & -0.10940997 & -0.02146886\\\\\n",
       "\\end{tabular}\n"
      ],
      "text/markdown": [
       "\n",
       "A data.frame: 4 × 5\n",
       "\n",
       "| <!--/--> | query_pairwise &lt;fct&gt; | gender_pairwise &lt;fct&gt; | engine &lt;fct&gt; | lower.CL &lt;dbl&gt; | upper.CL &lt;dbl&gt; |\n",
       "|---|---|---|---|---|---|\n",
       "| 1 | intelligent person - person | Female - Male | Baidu  |  0.15100529 |  0.30059892 |\n",
       "| 2 | intelligent person - person | Female - Male | Bing   | -0.05086397 |  0.01912800 |\n",
       "| 3 | intelligent person - person | Female - Male | Google | -0.18424630 | -0.09227994 |\n",
       "| 4 | intelligent person - person | Female - Male | Yandex | -0.10940997 | -0.02146886 |\n",
       "\n"
      ],
      "text/plain": [
       "  query_pairwise              gender_pairwise engine lower.CL    upper.CL   \n",
       "1 intelligent person - person Female - Male   Baidu   0.15100529  0.30059892\n",
       "2 intelligent person - person Female - Male   Bing   -0.05086397  0.01912800\n",
       "3 intelligent person - person Female - Male   Google -0.18424630 -0.09227994\n",
       "4 intelligent person - person Female - Male   Yandex -0.10940997 -0.02146886"
      ]
     },
     "metadata": {},
     "output_type": "display_data"
    }
   ],
   "source": [
    "# the confidence intervals here correspond to the ones in section 2.2\n",
    "confint(pairs_interaction)[,c(1,2,3,7,8)]"
   ]
  },
  {
   "cell_type": "markdown",
   "id": "e39f314c",
   "metadata": {},
   "source": [
    "## 2.3 Effect sizes"
   ]
  },
  {
   "cell_type": "markdown",
   "id": "6eaecdcc",
   "metadata": {},
   "source": [
    "### 3.1 Accross search engines"
   ]
  },
  {
   "cell_type": "code",
   "execution_count": 9,
   "id": "88430d03",
   "metadata": {},
   "outputs": [
    {
     "data": {
      "text/html": [
       "<table class=\"dataframe\">\n",
       "<caption>A data.frame: 24 × 5</caption>\n",
       "<thead>\n",
       "\t<tr><th></th><th scope=col>contrast</th><th scope=col>engine</th><th scope=col>effect.size</th><th scope=col>lower.CL</th><th scope=col>upper.CL</th></tr>\n",
       "\t<tr><th></th><th scope=col>&lt;fct&gt;</th><th scope=col>&lt;fct&gt;</th><th scope=col>&lt;dbl&gt;</th><th scope=col>&lt;dbl&gt;</th><th scope=col>&lt;dbl&gt;</th></tr>\n",
       "</thead>\n",
       "<tbody>\n",
       "\t<tr><th scope=row>1</th><td>(intelligent person Female - person Female)          </td><td>Baidu </td><td> 0.93647699</td><td> 0.685472036</td><td> 1.18748195</td></tr>\n",
       "\t<tr><th scope=row>2</th><td>(intelligent person Female - intelligent person Male)</td><td>Baidu </td><td> 0.27410372</td><td>-0.006954482</td><td> 0.55516191</td></tr>\n",
       "\t<tr><th scope=row>3</th><td>(intelligent person Female - person Male)            </td><td>Baidu </td><td> 0.04812640</td><td>-0.255140387</td><td> 0.35139319</td></tr>\n",
       "\t<tr><th scope=row>4</th><td>(person Female - intelligent person Male)            </td><td>Baidu </td><td>-0.66237328</td><td>-0.899897145</td><td>-0.42484941</td></tr>\n",
       "\t<tr><th scope=row>5</th><td>(person Female - person Male)                        </td><td>Baidu </td><td>-0.88835059</td><td>-1.152064928</td><td>-0.62463625</td></tr>\n",
       "\t<tr><th scope=row>6</th><td>(intelligent person Male - person Male)              </td><td>Baidu </td><td>-0.22597731</td><td>-0.518478880</td><td> 0.06652426</td></tr>\n",
       "\t<tr><th scope=row>7</th><td>(intelligent person Female - person Female)          </td><td>Bing  </td><td>-0.27826922</td><td>-0.429264433</td><td>-0.12727401</td></tr>\n",
       "\t<tr><th scope=row>8</th><td>(intelligent person Female - intelligent person Male)</td><td>Bing  </td><td>-0.22129851</td><td>-0.358215214</td><td>-0.08438180</td></tr>\n",
       "\t<tr><th scope=row>9</th><td>(intelligent person Female - person Male)            </td><td>Bing  </td><td>-0.41787759</td><td>-0.552123660</td><td>-0.28363151</td></tr>\n",
       "\t<tr><th scope=row>10</th><td>(person Female - intelligent person Male)            </td><td>Bing  </td><td> 0.05697072</td><td>-0.063553169</td><td> 0.17749460</td></tr>\n",
       "\t<tr><th scope=row>11</th><td>(person Female - person Male)                        </td><td>Bing  </td><td>-0.13960836</td><td>-0.256794260</td><td>-0.02242247</td></tr>\n",
       "\t<tr><th scope=row>12</th><td>(intelligent person Male - person Male)              </td><td>Bing  </td><td>-0.19657908</td><td>-0.295223346</td><td>-0.09793482</td></tr>\n",
       "\t<tr><th scope=row>13</th><td>(intelligent person Female - person Female)          </td><td>Google</td><td>-0.47981992</td><td>-0.668289824</td><td>-0.29135002</td></tr>\n",
       "\t<tr><th scope=row>14</th><td>(intelligent person Female - intelligent person Male)</td><td>Google</td><td>-1.03979148</td><td>-1.232537115</td><td>-0.84704584</td></tr>\n",
       "\t<tr><th scope=row>15</th><td>(intelligent person Female - person Male)            </td><td>Google</td><td>-0.80781751</td><td>-0.999272136</td><td>-0.61636289</td></tr>\n",
       "\t<tr><th scope=row>16</th><td>(person Female - intelligent person Male)            </td><td>Google</td><td>-0.55997155</td><td>-0.700273348</td><td>-0.41966976</td></tr>\n",
       "\t<tr><th scope=row>17</th><td>(person Female - person Male)                        </td><td>Google</td><td>-0.32799759</td><td>-0.466802793</td><td>-0.18919239</td></tr>\n",
       "\t<tr><th scope=row>18</th><td>(intelligent person Male - person Male)              </td><td>Google</td><td> 0.23197396</td><td> 0.088431002</td><td> 0.37551693</td></tr>\n",
       "\t<tr><th scope=row>19</th><td>(intelligent person Female - person Female)          </td><td>Yandex</td><td>-0.16696954</td><td>-0.368641775</td><td> 0.03470270</td></tr>\n",
       "\t<tr><th scope=row>20</th><td>(intelligent person Female - intelligent person Male)</td><td>Yandex</td><td> 0.07352694</td><td>-0.086287115</td><td> 0.23334100</td></tr>\n",
       "\t<tr><th scope=row>21</th><td>(intelligent person Female - person Male)            </td><td>Yandex</td><td> 0.24344677</td><td> 0.088792724</td><td> 0.39810082</td></tr>\n",
       "\t<tr><th scope=row>22</th><td>(person Female - intelligent person Male)            </td><td>Yandex</td><td> 0.24049648</td><td> 0.075111989</td><td> 0.40588097</td></tr>\n",
       "\t<tr><th scope=row>23</th><td>(person Female - person Male)                        </td><td>Yandex</td><td> 0.41041631</td><td> 0.249930060</td><td> 0.57090255</td></tr>\n",
       "\t<tr><th scope=row>24</th><td>(intelligent person Male - person Male)              </td><td>Yandex</td><td> 0.16991983</td><td> 0.067061167</td><td> 0.27277849</td></tr>\n",
       "</tbody>\n",
       "</table>\n"
      ],
      "text/latex": [
       "A data.frame: 24 × 5\n",
       "\\begin{tabular}{r|lllll}\n",
       "  & contrast & engine & effect.size & lower.CL & upper.CL\\\\\n",
       "  & <fct> & <fct> & <dbl> & <dbl> & <dbl>\\\\\n",
       "\\hline\n",
       "\t1 & (intelligent person Female - person Female)           & Baidu  &  0.93647699 &  0.685472036 &  1.18748195\\\\\n",
       "\t2 & (intelligent person Female - intelligent person Male) & Baidu  &  0.27410372 & -0.006954482 &  0.55516191\\\\\n",
       "\t3 & (intelligent person Female - person Male)             & Baidu  &  0.04812640 & -0.255140387 &  0.35139319\\\\\n",
       "\t4 & (person Female - intelligent person Male)             & Baidu  & -0.66237328 & -0.899897145 & -0.42484941\\\\\n",
       "\t5 & (person Female - person Male)                         & Baidu  & -0.88835059 & -1.152064928 & -0.62463625\\\\\n",
       "\t6 & (intelligent person Male - person Male)               & Baidu  & -0.22597731 & -0.518478880 &  0.06652426\\\\\n",
       "\t7 & (intelligent person Female - person Female)           & Bing   & -0.27826922 & -0.429264433 & -0.12727401\\\\\n",
       "\t8 & (intelligent person Female - intelligent person Male) & Bing   & -0.22129851 & -0.358215214 & -0.08438180\\\\\n",
       "\t9 & (intelligent person Female - person Male)             & Bing   & -0.41787759 & -0.552123660 & -0.28363151\\\\\n",
       "\t10 & (person Female - intelligent person Male)             & Bing   &  0.05697072 & -0.063553169 &  0.17749460\\\\\n",
       "\t11 & (person Female - person Male)                         & Bing   & -0.13960836 & -0.256794260 & -0.02242247\\\\\n",
       "\t12 & (intelligent person Male - person Male)               & Bing   & -0.19657908 & -0.295223346 & -0.09793482\\\\\n",
       "\t13 & (intelligent person Female - person Female)           & Google & -0.47981992 & -0.668289824 & -0.29135002\\\\\n",
       "\t14 & (intelligent person Female - intelligent person Male) & Google & -1.03979148 & -1.232537115 & -0.84704584\\\\\n",
       "\t15 & (intelligent person Female - person Male)             & Google & -0.80781751 & -0.999272136 & -0.61636289\\\\\n",
       "\t16 & (person Female - intelligent person Male)             & Google & -0.55997155 & -0.700273348 & -0.41966976\\\\\n",
       "\t17 & (person Female - person Male)                         & Google & -0.32799759 & -0.466802793 & -0.18919239\\\\\n",
       "\t18 & (intelligent person Male - person Male)               & Google &  0.23197396 &  0.088431002 &  0.37551693\\\\\n",
       "\t19 & (intelligent person Female - person Female)           & Yandex & -0.16696954 & -0.368641775 &  0.03470270\\\\\n",
       "\t20 & (intelligent person Female - intelligent person Male) & Yandex &  0.07352694 & -0.086287115 &  0.23334100\\\\\n",
       "\t21 & (intelligent person Female - person Male)             & Yandex &  0.24344677 &  0.088792724 &  0.39810082\\\\\n",
       "\t22 & (person Female - intelligent person Male)             & Yandex &  0.24049648 &  0.075111989 &  0.40588097\\\\\n",
       "\t23 & (person Female - person Male)                         & Yandex &  0.41041631 &  0.249930060 &  0.57090255\\\\\n",
       "\t24 & (intelligent person Male - person Male)               & Yandex &  0.16991983 &  0.067061167 &  0.27277849\\\\\n",
       "\\end{tabular}\n"
      ],
      "text/markdown": [
       "\n",
       "A data.frame: 24 × 5\n",
       "\n",
       "| <!--/--> | contrast &lt;fct&gt; | engine &lt;fct&gt; | effect.size &lt;dbl&gt; | lower.CL &lt;dbl&gt; | upper.CL &lt;dbl&gt; |\n",
       "|---|---|---|---|---|---|\n",
       "| 1 | (intelligent person Female - person Female)           | Baidu  |  0.93647699 |  0.685472036 |  1.18748195 |\n",
       "| 2 | (intelligent person Female - intelligent person Male) | Baidu  |  0.27410372 | -0.006954482 |  0.55516191 |\n",
       "| 3 | (intelligent person Female - person Male)             | Baidu  |  0.04812640 | -0.255140387 |  0.35139319 |\n",
       "| 4 | (person Female - intelligent person Male)             | Baidu  | -0.66237328 | -0.899897145 | -0.42484941 |\n",
       "| 5 | (person Female - person Male)                         | Baidu  | -0.88835059 | -1.152064928 | -0.62463625 |\n",
       "| 6 | (intelligent person Male - person Male)               | Baidu  | -0.22597731 | -0.518478880 |  0.06652426 |\n",
       "| 7 | (intelligent person Female - person Female)           | Bing   | -0.27826922 | -0.429264433 | -0.12727401 |\n",
       "| 8 | (intelligent person Female - intelligent person Male) | Bing   | -0.22129851 | -0.358215214 | -0.08438180 |\n",
       "| 9 | (intelligent person Female - person Male)             | Bing   | -0.41787759 | -0.552123660 | -0.28363151 |\n",
       "| 10 | (person Female - intelligent person Male)             | Bing   |  0.05697072 | -0.063553169 |  0.17749460 |\n",
       "| 11 | (person Female - person Male)                         | Bing   | -0.13960836 | -0.256794260 | -0.02242247 |\n",
       "| 12 | (intelligent person Male - person Male)               | Bing   | -0.19657908 | -0.295223346 | -0.09793482 |\n",
       "| 13 | (intelligent person Female - person Female)           | Google | -0.47981992 | -0.668289824 | -0.29135002 |\n",
       "| 14 | (intelligent person Female - intelligent person Male) | Google | -1.03979148 | -1.232537115 | -0.84704584 |\n",
       "| 15 | (intelligent person Female - person Male)             | Google | -0.80781751 | -0.999272136 | -0.61636289 |\n",
       "| 16 | (person Female - intelligent person Male)             | Google | -0.55997155 | -0.700273348 | -0.41966976 |\n",
       "| 17 | (person Female - person Male)                         | Google | -0.32799759 | -0.466802793 | -0.18919239 |\n",
       "| 18 | (intelligent person Male - person Male)               | Google |  0.23197396 |  0.088431002 |  0.37551693 |\n",
       "| 19 | (intelligent person Female - person Female)           | Yandex | -0.16696954 | -0.368641775 |  0.03470270 |\n",
       "| 20 | (intelligent person Female - intelligent person Male) | Yandex |  0.07352694 | -0.086287115 |  0.23334100 |\n",
       "| 21 | (intelligent person Female - person Male)             | Yandex |  0.24344677 |  0.088792724 |  0.39810082 |\n",
       "| 22 | (person Female - intelligent person Male)             | Yandex |  0.24049648 |  0.075111989 |  0.40588097 |\n",
       "| 23 | (person Female - person Male)                         | Yandex |  0.41041631 |  0.249930060 |  0.57090255 |\n",
       "| 24 | (intelligent person Male - person Male)               | Yandex |  0.16991983 |  0.067061167 |  0.27277849 |\n",
       "\n"
      ],
      "text/plain": [
       "   contrast                                              engine effect.size lower.CL     upper.CL   \n",
       "1  (intelligent person Female - person Female)           Baidu   0.93647699  0.685472036  1.18748195\n",
       "2  (intelligent person Female - intelligent person Male) Baidu   0.27410372 -0.006954482  0.55516191\n",
       "3  (intelligent person Female - person Male)             Baidu   0.04812640 -0.255140387  0.35139319\n",
       "4  (person Female - intelligent person Male)             Baidu  -0.66237328 -0.899897145 -0.42484941\n",
       "5  (person Female - person Male)                         Baidu  -0.88835059 -1.152064928 -0.62463625\n",
       "6  (intelligent person Male - person Male)               Baidu  -0.22597731 -0.518478880  0.06652426\n",
       "7  (intelligent person Female - person Female)           Bing   -0.27826922 -0.429264433 -0.12727401\n",
       "8  (intelligent person Female - intelligent person Male) Bing   -0.22129851 -0.358215214 -0.08438180\n",
       "9  (intelligent person Female - person Male)             Bing   -0.41787759 -0.552123660 -0.28363151\n",
       "10 (person Female - intelligent person Male)             Bing    0.05697072 -0.063553169  0.17749460\n",
       "11 (person Female - person Male)                         Bing   -0.13960836 -0.256794260 -0.02242247\n",
       "12 (intelligent person Male - person Male)               Bing   -0.19657908 -0.295223346 -0.09793482\n",
       "13 (intelligent person Female - person Female)           Google -0.47981992 -0.668289824 -0.29135002\n",
       "14 (intelligent person Female - intelligent person Male) Google -1.03979148 -1.232537115 -0.84704584\n",
       "15 (intelligent person Female - person Male)             Google -0.80781751 -0.999272136 -0.61636289\n",
       "16 (person Female - intelligent person Male)             Google -0.55997155 -0.700273348 -0.41966976\n",
       "17 (person Female - person Male)                         Google -0.32799759 -0.466802793 -0.18919239\n",
       "18 (intelligent person Male - person Male)               Google  0.23197396  0.088431002  0.37551693\n",
       "19 (intelligent person Female - person Female)           Yandex -0.16696954 -0.368641775  0.03470270\n",
       "20 (intelligent person Female - intelligent person Male) Yandex  0.07352694 -0.086287115  0.23334100\n",
       "21 (intelligent person Female - person Male)             Yandex  0.24344677  0.088792724  0.39810082\n",
       "22 (person Female - intelligent person Male)             Yandex  0.24049648  0.075111989  0.40588097\n",
       "23 (person Female - person Male)                         Yandex  0.41041631  0.249930060  0.57090255\n",
       "24 (intelligent person Male - person Male)               Yandex  0.16991983  0.067061167  0.27277849"
      ]
     },
     "metadata": {},
     "output_type": "display_data"
    }
   ],
   "source": [
    "# the effect sizess here correspond to the ones in section 2.1\n",
    "summary(eff_size(pairs_engine, sigma = sigma(fit), edf = df.residual(fit), method = \"identity\"))[,c(1,2,3,6,7)]"
   ]
  },
  {
   "cell_type": "markdown",
   "id": "e6d4ca25",
   "metadata": {},
   "source": [
    "### 3.2 Accross interactions"
   ]
  },
  {
   "cell_type": "code",
   "execution_count": 10,
   "id": "eb3dd95a",
   "metadata": {},
   "outputs": [
    {
     "data": {
      "text/html": [
       "<table class=\"dataframe\">\n",
       "<caption>A data.frame: 4 × 5</caption>\n",
       "<thead>\n",
       "\t<tr><th></th><th scope=col>contrast</th><th scope=col>engine</th><th scope=col>effect.size</th><th scope=col>lower.CL</th><th scope=col>upper.CL</th></tr>\n",
       "\t<tr><th></th><th scope=col>&lt;fct&gt;</th><th scope=col>&lt;fct&gt;</th><th scope=col>&lt;dbl&gt;</th><th scope=col>&lt;dbl&gt;</th><th scope=col>&lt;dbl&gt;</th></tr>\n",
       "</thead>\n",
       "<tbody>\n",
       "\t<tr><th scope=row>1</th><td>(intelligent person - person Female - Male)</td><td>Baidu </td><td> 1.16245430</td><td> 0.7768233</td><td> 1.54808533</td></tr>\n",
       "\t<tr><th scope=row>2</th><td>(intelligent person - person Female - Male)</td><td>Bing  </td><td>-0.08169014</td><td>-0.2618594</td><td> 0.09847908</td></tr>\n",
       "\t<tr><th scope=row>3</th><td>(intelligent person - person Female - Male)</td><td>Google</td><td>-0.71179389</td><td>-0.9488673</td><td>-0.47472051</td></tr>\n",
       "\t<tr><th scope=row>4</th><td>(intelligent person - person Female - Male)</td><td>Yandex</td><td>-0.33688936</td><td>-0.5633360</td><td>-0.11044277</td></tr>\n",
       "</tbody>\n",
       "</table>\n"
      ],
      "text/latex": [
       "A data.frame: 4 × 5\n",
       "\\begin{tabular}{r|lllll}\n",
       "  & contrast & engine & effect.size & lower.CL & upper.CL\\\\\n",
       "  & <fct> & <fct> & <dbl> & <dbl> & <dbl>\\\\\n",
       "\\hline\n",
       "\t1 & (intelligent person - person Female - Male) & Baidu  &  1.16245430 &  0.7768233 &  1.54808533\\\\\n",
       "\t2 & (intelligent person - person Female - Male) & Bing   & -0.08169014 & -0.2618594 &  0.09847908\\\\\n",
       "\t3 & (intelligent person - person Female - Male) & Google & -0.71179389 & -0.9488673 & -0.47472051\\\\\n",
       "\t4 & (intelligent person - person Female - Male) & Yandex & -0.33688936 & -0.5633360 & -0.11044277\\\\\n",
       "\\end{tabular}\n"
      ],
      "text/markdown": [
       "\n",
       "A data.frame: 4 × 5\n",
       "\n",
       "| <!--/--> | contrast &lt;fct&gt; | engine &lt;fct&gt; | effect.size &lt;dbl&gt; | lower.CL &lt;dbl&gt; | upper.CL &lt;dbl&gt; |\n",
       "|---|---|---|---|---|---|\n",
       "| 1 | (intelligent person - person Female - Male) | Baidu  |  1.16245430 |  0.7768233 |  1.54808533 |\n",
       "| 2 | (intelligent person - person Female - Male) | Bing   | -0.08169014 | -0.2618594 |  0.09847908 |\n",
       "| 3 | (intelligent person - person Female - Male) | Google | -0.71179389 | -0.9488673 | -0.47472051 |\n",
       "| 4 | (intelligent person - person Female - Male) | Yandex | -0.33688936 | -0.5633360 | -0.11044277 |\n",
       "\n"
      ],
      "text/plain": [
       "  contrast                                    engine effect.size lower.CL   upper.CL   \n",
       "1 (intelligent person - person Female - Male) Baidu   1.16245430  0.7768233  1.54808533\n",
       "2 (intelligent person - person Female - Male) Bing   -0.08169014 -0.2618594  0.09847908\n",
       "3 (intelligent person - person Female - Male) Google -0.71179389 -0.9488673 -0.47472051\n",
       "4 (intelligent person - person Female - Male) Yandex -0.33688936 -0.5633360 -0.11044277"
      ]
     },
     "metadata": {},
     "output_type": "display_data"
    }
   ],
   "source": [
    "summary( eff_size(pairs_interaction, sigma(fit), df.residual(fit), method = \"identity\"))[,c(1,2,3,6,7)]\n"
   ]
  },
  {
   "cell_type": "code",
   "execution_count": null,
   "id": "d561174e",
   "metadata": {},
   "outputs": [],
   "source": []
  }
 ],
 "metadata": {
  "hide_input": false,
  "kernelspec": {
   "display_name": "R",
   "language": "R",
   "name": "ir"
  },
  "language_info": {
   "codemirror_mode": "r",
   "file_extension": ".r",
   "mimetype": "text/x-r-source",
   "name": "R",
   "pygments_lexer": "r",
   "version": "4.1.3"
  }
 },
 "nbformat": 4,
 "nbformat_minor": 5
}

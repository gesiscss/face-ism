{
 "cells": [
  {
   "cell_type": "code",
   "execution_count": 1,
   "id": "e290aca9",
   "metadata": {},
   "outputs": [
    {
     "name": "stderr",
     "output_type": "stream",
     "text": [
      "Loading required package: carData\n",
      "\n"
     ]
    }
   ],
   "source": [
    "library(tidyr)\n",
    "library(car)\n",
    "library(emmeans)\n",
    "\n",
    "# increase the number of characters that can be printed\n",
    "options(\"width\"=200)"
   ]
  },
  {
   "cell_type": "code",
   "execution_count": 2,
   "id": "ea429cab",
   "metadata": {},
   "outputs": [],
   "source": [
    "df <- read.csv(\"data/data.csv\")\n",
    "\n",
    "# only consider the cases with one face\n",
    "df  <- subset(df, df$has_faces == 1)"
   ]
  },
  {
   "cell_type": "markdown",
   "id": "e27dcd32",
   "metadata": {},
   "source": [
    "# Face-ism in the person queries\n"
   ]
  },
  {
   "cell_type": "code",
   "execution_count": 3,
   "id": "9a8658fe",
   "metadata": {},
   "outputs": [],
   "source": [
    "# filter by the query type person, i.e. \"woman\", man\", \"intelligent woman\" and \"intelligent man\" queries\n",
    "dfg <- subset(df, df$query_type==\"man\" | df$query_type==\"woman\")\n",
    "\n",
    "# create gender variable based on the face\n",
    "dfg$gender <- NA\n",
    "dfg[which(dfg$has_faces_male==1),\"gender\"]<-'Male'\n",
    "dfg[which(dfg$has_faces_female==1),\"gender\"]<-'Female'\n",
    "\n",
    "# ignore the cases in which the query and gender does not match\n",
    "dfg$gendermatch <- 0\n",
    "dfg[which(dfg$has_faces_male==1 & dfg$query_type==\"man\"),\"gendermatch\"]<-1\n",
    "dfg[which(dfg$has_faces_female==1 & dfg$query_type==\"woman\"),\"gendermatch\"]<-1\n",
    "dfg <- subset(dfg, dfg$gendermatch == 1)\n",
    "\n"
   ]
  },
  {
   "cell_type": "markdown",
   "id": "12cd5ea4",
   "metadata": {},
   "source": [
    "## 1. Anova table"
   ]
  },
  {
   "cell_type": "code",
   "execution_count": 4,
   "id": "596825e1",
   "metadata": {},
   "outputs": [
    {
     "name": "stdout",
     "output_type": "stream",
     "text": [
      "Anova Table (Type III tests)\n",
      "\n",
      "Response: faceism\n",
      "                              Sum Sq    Df  F value    Pr(>F)    \n",
      "(Intercept)                    28.33     1 786.7598 < 2.2e-16 ***\n",
      "gender                          0.20     1   5.6621 0.0173482 *  \n",
      "query_adjective                 0.34     1   9.4237 0.0021459 ** \n",
      "engine                          1.61     3  14.9430  1.04e-09 ***\n",
      "region                          0.02     2   0.2722 0.7617320    \n",
      "browser                         0.00     1   0.1087 0.7416694    \n",
      "wave                            0.01     1   0.4113 0.5213100    \n",
      "gender:query_adjective          0.40     1  11.1585 0.0008386 ***\n",
      "gender:engine                   5.39     3  49.9234 < 2.2e-16 ***\n",
      "query_adjective:engine          4.43     3  41.0241 < 2.2e-16 ***\n",
      "gender:query_adjective:engine   0.98     3   9.0692  5.39e-06 ***\n",
      "Residuals                     517.31 14366                       \n",
      "---\n",
      "Signif. codes:  0 ‘***’ 0.001 ‘**’ 0.01 ‘*’ 0.05 ‘.’ 0.1 ‘ ’ 1\n"
     ]
    }
   ],
   "source": [
    "# fit the model\n",
    "fit <- lm(faceism ~ gender*query_adjective*engine+region+browser+wave, data=dfg)\n",
    "\n",
    "# display general anova table (factors and interactions only)\n",
    "print(Anova(fit, type=\"III\"))"
   ]
  },
  {
   "cell_type": "markdown",
   "id": "16526015",
   "metadata": {},
   "source": [
    "## 2. Contrast tests"
   ]
  },
  {
   "cell_type": "markdown",
   "id": "63ed32ef",
   "metadata": {},
   "source": [
    "### 2.1 Accross search engines"
   ]
  },
  {
   "cell_type": "code",
   "execution_count": 5,
   "id": "0ac826c9",
   "metadata": {},
   "outputs": [
    {
     "name": "stdout",
     "output_type": "stream",
     "text": [
      "engine = Baidu:\n",
      " contrast                                 estimate      SE    df t.ratio p.value\n",
      " intelligent Female - no adjective Female  0.04067 0.01325 14366   3.070  0.0115\n",
      " intelligent Female - intelligent Male     0.04193 0.01762 14366   2.380  0.0811\n",
      " intelligent Female - no adjective Male    0.01249 0.01468 14366   0.851  0.8301\n",
      " no adjective Female - intelligent Male    0.00126 0.01500 14366   0.084  0.9998\n",
      " no adjective Female - no adjective Male  -0.02818 0.01140 14366  -2.472  0.0644\n",
      " intelligent Male - no adjective Male     -0.02944 0.01628 14366  -1.809  0.2692\n",
      "\n",
      "engine = Bing:\n",
      " contrast                                 estimate      SE    df t.ratio p.value\n",
      " intelligent Female - no adjective Female  0.07840 0.00794 14366   9.875  <.0001\n",
      " intelligent Female - intelligent Male    -0.10682 0.00858 14366 -12.457  <.0001\n",
      " intelligent Female - no adjective Male    0.00165 0.00783 14366   0.211  0.9967\n",
      " no adjective Female - intelligent Male   -0.18522 0.00803 14366 -23.076  <.0001\n",
      " no adjective Female - no adjective Male  -0.07674 0.00723 14366 -10.621  <.0001\n",
      " intelligent Male - no adjective Male      0.10847 0.00792 14366  13.697  <.0001\n",
      "\n",
      "engine = Google:\n",
      " contrast                                 estimate      SE    df t.ratio p.value\n",
      " intelligent Female - no adjective Female -0.04252 0.00945 14366  -4.500  <.0001\n",
      " intelligent Female - intelligent Male     0.00300 0.01006 14366   0.298  0.9908\n",
      " intelligent Female - no adjective Male   -0.06849 0.00936 14366  -7.314  <.0001\n",
      " no adjective Female - intelligent Male    0.04552 0.00900 14366   5.057  <.0001\n",
      " no adjective Female - no adjective Male  -0.02597 0.00822 14366  -3.161  0.0086\n",
      " intelligent Male - no adjective Male     -0.07149 0.00891 14366  -8.022  <.0001\n",
      "\n",
      "engine = Yandex:\n",
      " contrast                                 estimate      SE    df t.ratio p.value\n",
      " intelligent Female - no adjective Female -0.01867 0.00782 14366  -2.388  0.0795\n",
      " intelligent Female - intelligent Male     0.02577 0.00837 14366   3.080  0.0111\n",
      " intelligent Female - no adjective Male    0.03067 0.00820 14366   3.742  0.0011\n",
      " no adjective Female - intelligent Male    0.04443 0.00808 14366   5.498  <.0001\n",
      " no adjective Female - no adjective Male   0.04934 0.00791 14366   6.240  <.0001\n",
      " intelligent Male - no adjective Male      0.00491 0.00845 14366   0.581  0.9379\n",
      "\n",
      "Results are averaged over the levels of: region, browser, wave \n",
      "P value adjustment: tukey method for comparing a family of 4 estimates \n"
     ]
    }
   ],
   "source": [
    "# full table of contrasts by search engine including. The interactions include those across \n",
    "# queries, but we only report the ones within the query term (i.e. \"person Female / person Male\" \n",
    "# and intelligent person Female / person Male\")\n",
    "pairs_engine <- pairs(emmeans(fit, ~ query_adjective * gender | engine),type = \"response\")\n",
    "\n",
    "# print the pairs\n",
    "print(pairs_engine)"
   ]
  },
  {
   "cell_type": "markdown",
   "id": "1619ad53",
   "metadata": {},
   "source": [
    "### 2.2 Accross interactions"
   ]
  },
  {
   "cell_type": "code",
   "execution_count": 6,
   "id": "7ab51d21",
   "metadata": {},
   "outputs": [
    {
     "name": "stdout",
     "output_type": "stream",
     "text": [
      "engine = Baidu:\n",
      " query_adjective_pairwise   gender_pairwise estimate     SE    df t.ratio p.value\n",
      " intelligent - no adjective Female - Male     0.0701 0.0210 14366   3.340  0.0008\n",
      "\n",
      "engine = Bing:\n",
      " query_adjective_pairwise   gender_pairwise estimate     SE    df t.ratio p.value\n",
      " intelligent - no adjective Female - Male    -0.0301 0.0112 14366  -2.682  0.0073\n",
      "\n",
      "engine = Google:\n",
      " query_adjective_pairwise   gender_pairwise estimate     SE    df t.ratio p.value\n",
      " intelligent - no adjective Female - Male     0.0290 0.0130 14366   2.230  0.0258\n",
      "\n",
      "engine = Yandex:\n",
      " query_adjective_pairwise   gender_pairwise estimate     SE    df t.ratio p.value\n",
      " intelligent - no adjective Female - Male    -0.0236 0.0115 14366  -2.048  0.0406\n",
      "\n",
      "Results are averaged over the levels of: region, browser, wave \n"
     ]
    }
   ],
   "source": [
    "# full table of contrasts by interactions of search engine and query\n",
    "# we only report the ones within the query term (i.e. \"person Female / person Mal\" and\n",
    "# intelligent person Female / person Male\")\n",
    "pairs_interaction <- pairs(emmeans(fit, ~ query_adjective * gender  | engine,type = \"response\"), interaction = \"pairwise\")\n",
    "\n",
    "# print the pairs\n",
    "print(pairs_interaction)"
   ]
  },
  {
   "cell_type": "markdown",
   "id": "95183e83",
   "metadata": {},
   "source": [
    "## 3 Confidence intervals"
   ]
  },
  {
   "cell_type": "markdown",
   "id": "2b25ea4e",
   "metadata": {},
   "source": [
    "### 3.1 Accross search engines"
   ]
  },
  {
   "cell_type": "code",
   "execution_count": 7,
   "id": "955b498d",
   "metadata": {},
   "outputs": [
    {
     "data": {
      "text/html": [
       "<table class=\"dataframe\">\n",
       "<caption>A data.frame: 24 × 4</caption>\n",
       "<thead>\n",
       "\t<tr><th></th><th scope=col>contrast</th><th scope=col>engine</th><th scope=col>lower.CL</th><th scope=col>upper.CL</th></tr>\n",
       "\t<tr><th></th><th scope=col>&lt;fct&gt;</th><th scope=col>&lt;fct&gt;</th><th scope=col>&lt;dbl&gt;</th><th scope=col>&lt;dbl&gt;</th></tr>\n",
       "</thead>\n",
       "<tbody>\n",
       "\t<tr><th scope=row>1</th><td>intelligent Female - no adjective Female</td><td>Baidu </td><td> 0.006630233</td><td> 0.074706134</td></tr>\n",
       "\t<tr><th scope=row>2</th><td>intelligent Female - intelligent Male   </td><td>Baidu </td><td>-0.003344773</td><td> 0.087206273</td></tr>\n",
       "\t<tr><th scope=row>3</th><td>intelligent Female - no adjective Male  </td><td>Baidu </td><td>-0.025224077</td><td> 0.050197052</td></tr>\n",
       "\t<tr><th scope=row>4</th><td>no adjective Female - intelligent Male  </td><td>Baidu </td><td>-0.037284021</td><td> 0.039809155</td></tr>\n",
       "\t<tr><th scope=row>5</th><td>no adjective Female - no adjective Male </td><td>Baidu </td><td>-0.057477165</td><td> 0.001113774</td></tr>\n",
       "\t<tr><th scope=row>6</th><td>intelligent Male - no adjective Male    </td><td>Baidu </td><td>-0.071270645</td><td> 0.012382120</td></tr>\n",
       "\t<tr><th scope=row>7</th><td>intelligent Female - no adjective Female</td><td>Bing  </td><td> 0.057997726</td><td> 0.098793428</td></tr>\n",
       "\t<tr><th scope=row>8</th><td>intelligent Female - intelligent Male   </td><td>Bing  </td><td>-0.128853771</td><td>-0.084787719</td></tr>\n",
       "\t<tr><th scope=row>9</th><td>intelligent Female - no adjective Male  </td><td>Bing  </td><td>-0.018465155</td><td> 0.021768316</td></tr>\n",
       "\t<tr><th scope=row>10</th><td>no adjective Female - intelligent Male  </td><td>Bing  </td><td>-0.205838360</td><td>-0.164594284</td></tr>\n",
       "\t<tr><th scope=row>11</th><td>no adjective Female - no adjective Male </td><td>Bing  </td><td>-0.095308424</td><td>-0.058179568</td></tr>\n",
       "\t<tr><th scope=row>12</th><td>intelligent Male - no adjective Male    </td><td>Bing  </td><td> 0.088123980</td><td> 0.128820672</td></tr>\n",
       "\t<tr><th scope=row>13</th><td>intelligent Female - no adjective Female</td><td>Google</td><td>-0.066799946</td><td>-0.018241271</td></tr>\n",
       "\t<tr><th scope=row>14</th><td>intelligent Female - intelligent Male   </td><td>Google</td><td>-0.022846421</td><td> 0.028848354</td></tr>\n",
       "\t<tr><th scope=row>15</th><td>intelligent Female - no adjective Male  </td><td>Google</td><td>-0.092547541</td><td>-0.044431159</td></tr>\n",
       "\t<tr><th scope=row>16</th><td>no adjective Female - intelligent Male  </td><td>Google</td><td> 0.022394012</td><td> 0.068649137</td></tr>\n",
       "\t<tr><th scope=row>17</th><td>no adjective Female - no adjective Male </td><td>Google</td><td>-0.047080053</td><td>-0.004857430</td></tr>\n",
       "\t<tr><th scope=row>18</th><td>intelligent Male - no adjective Male    </td><td>Google</td><td>-0.094388221</td><td>-0.048592411</td></tr>\n",
       "\t<tr><th scope=row>19</th><td>intelligent Female - no adjective Female</td><td>Yandex</td><td>-0.038752450</td><td> 0.001421047</td></tr>\n",
       "\t<tr><th scope=row>20</th><td>intelligent Female - intelligent Male   </td><td>Yandex</td><td> 0.004273902</td><td> 0.047259068</td></tr>\n",
       "\t<tr><th scope=row>21</th><td>intelligent Female - no adjective Male  </td><td>Yandex</td><td> 0.009613707</td><td> 0.051734253</td></tr>\n",
       "\t<tr><th scope=row>22</th><td>no adjective Female - intelligent Male  </td><td>Yandex</td><td> 0.023668060</td><td> 0.065196312</td></tr>\n",
       "\t<tr><th scope=row>23</th><td>no adjective Female - no adjective Male </td><td>Yandex</td><td> 0.029022910</td><td> 0.069656453</td></tr>\n",
       "\t<tr><th scope=row>24</th><td>intelligent Male - no adjective Male    </td><td>Yandex</td><td>-0.016801727</td><td> 0.026616717</td></tr>\n",
       "</tbody>\n",
       "</table>\n"
      ],
      "text/latex": [
       "A data.frame: 24 × 4\n",
       "\\begin{tabular}{r|llll}\n",
       "  & contrast & engine & lower.CL & upper.CL\\\\\n",
       "  & <fct> & <fct> & <dbl> & <dbl>\\\\\n",
       "\\hline\n",
       "\t1 & intelligent Female - no adjective Female & Baidu  &  0.006630233 &  0.074706134\\\\\n",
       "\t2 & intelligent Female - intelligent Male    & Baidu  & -0.003344773 &  0.087206273\\\\\n",
       "\t3 & intelligent Female - no adjective Male   & Baidu  & -0.025224077 &  0.050197052\\\\\n",
       "\t4 & no adjective Female - intelligent Male   & Baidu  & -0.037284021 &  0.039809155\\\\\n",
       "\t5 & no adjective Female - no adjective Male  & Baidu  & -0.057477165 &  0.001113774\\\\\n",
       "\t6 & intelligent Male - no adjective Male     & Baidu  & -0.071270645 &  0.012382120\\\\\n",
       "\t7 & intelligent Female - no adjective Female & Bing   &  0.057997726 &  0.098793428\\\\\n",
       "\t8 & intelligent Female - intelligent Male    & Bing   & -0.128853771 & -0.084787719\\\\\n",
       "\t9 & intelligent Female - no adjective Male   & Bing   & -0.018465155 &  0.021768316\\\\\n",
       "\t10 & no adjective Female - intelligent Male   & Bing   & -0.205838360 & -0.164594284\\\\\n",
       "\t11 & no adjective Female - no adjective Male  & Bing   & -0.095308424 & -0.058179568\\\\\n",
       "\t12 & intelligent Male - no adjective Male     & Bing   &  0.088123980 &  0.128820672\\\\\n",
       "\t13 & intelligent Female - no adjective Female & Google & -0.066799946 & -0.018241271\\\\\n",
       "\t14 & intelligent Female - intelligent Male    & Google & -0.022846421 &  0.028848354\\\\\n",
       "\t15 & intelligent Female - no adjective Male   & Google & -0.092547541 & -0.044431159\\\\\n",
       "\t16 & no adjective Female - intelligent Male   & Google &  0.022394012 &  0.068649137\\\\\n",
       "\t17 & no adjective Female - no adjective Male  & Google & -0.047080053 & -0.004857430\\\\\n",
       "\t18 & intelligent Male - no adjective Male     & Google & -0.094388221 & -0.048592411\\\\\n",
       "\t19 & intelligent Female - no adjective Female & Yandex & -0.038752450 &  0.001421047\\\\\n",
       "\t20 & intelligent Female - intelligent Male    & Yandex &  0.004273902 &  0.047259068\\\\\n",
       "\t21 & intelligent Female - no adjective Male   & Yandex &  0.009613707 &  0.051734253\\\\\n",
       "\t22 & no adjective Female - intelligent Male   & Yandex &  0.023668060 &  0.065196312\\\\\n",
       "\t23 & no adjective Female - no adjective Male  & Yandex &  0.029022910 &  0.069656453\\\\\n",
       "\t24 & intelligent Male - no adjective Male     & Yandex & -0.016801727 &  0.026616717\\\\\n",
       "\\end{tabular}\n"
      ],
      "text/markdown": [
       "\n",
       "A data.frame: 24 × 4\n",
       "\n",
       "| <!--/--> | contrast &lt;fct&gt; | engine &lt;fct&gt; | lower.CL &lt;dbl&gt; | upper.CL &lt;dbl&gt; |\n",
       "|---|---|---|---|---|\n",
       "| 1 | intelligent Female - no adjective Female | Baidu  |  0.006630233 |  0.074706134 |\n",
       "| 2 | intelligent Female - intelligent Male    | Baidu  | -0.003344773 |  0.087206273 |\n",
       "| 3 | intelligent Female - no adjective Male   | Baidu  | -0.025224077 |  0.050197052 |\n",
       "| 4 | no adjective Female - intelligent Male   | Baidu  | -0.037284021 |  0.039809155 |\n",
       "| 5 | no adjective Female - no adjective Male  | Baidu  | -0.057477165 |  0.001113774 |\n",
       "| 6 | intelligent Male - no adjective Male     | Baidu  | -0.071270645 |  0.012382120 |\n",
       "| 7 | intelligent Female - no adjective Female | Bing   |  0.057997726 |  0.098793428 |\n",
       "| 8 | intelligent Female - intelligent Male    | Bing   | -0.128853771 | -0.084787719 |\n",
       "| 9 | intelligent Female - no adjective Male   | Bing   | -0.018465155 |  0.021768316 |\n",
       "| 10 | no adjective Female - intelligent Male   | Bing   | -0.205838360 | -0.164594284 |\n",
       "| 11 | no adjective Female - no adjective Male  | Bing   | -0.095308424 | -0.058179568 |\n",
       "| 12 | intelligent Male - no adjective Male     | Bing   |  0.088123980 |  0.128820672 |\n",
       "| 13 | intelligent Female - no adjective Female | Google | -0.066799946 | -0.018241271 |\n",
       "| 14 | intelligent Female - intelligent Male    | Google | -0.022846421 |  0.028848354 |\n",
       "| 15 | intelligent Female - no adjective Male   | Google | -0.092547541 | -0.044431159 |\n",
       "| 16 | no adjective Female - intelligent Male   | Google |  0.022394012 |  0.068649137 |\n",
       "| 17 | no adjective Female - no adjective Male  | Google | -0.047080053 | -0.004857430 |\n",
       "| 18 | intelligent Male - no adjective Male     | Google | -0.094388221 | -0.048592411 |\n",
       "| 19 | intelligent Female - no adjective Female | Yandex | -0.038752450 |  0.001421047 |\n",
       "| 20 | intelligent Female - intelligent Male    | Yandex |  0.004273902 |  0.047259068 |\n",
       "| 21 | intelligent Female - no adjective Male   | Yandex |  0.009613707 |  0.051734253 |\n",
       "| 22 | no adjective Female - intelligent Male   | Yandex |  0.023668060 |  0.065196312 |\n",
       "| 23 | no adjective Female - no adjective Male  | Yandex |  0.029022910 |  0.069656453 |\n",
       "| 24 | intelligent Male - no adjective Male     | Yandex | -0.016801727 |  0.026616717 |\n",
       "\n"
      ],
      "text/plain": [
       "   contrast                                 engine lower.CL     upper.CL    \n",
       "1  intelligent Female - no adjective Female Baidu   0.006630233  0.074706134\n",
       "2  intelligent Female - intelligent Male    Baidu  -0.003344773  0.087206273\n",
       "3  intelligent Female - no adjective Male   Baidu  -0.025224077  0.050197052\n",
       "4  no adjective Female - intelligent Male   Baidu  -0.037284021  0.039809155\n",
       "5  no adjective Female - no adjective Male  Baidu  -0.057477165  0.001113774\n",
       "6  intelligent Male - no adjective Male     Baidu  -0.071270645  0.012382120\n",
       "7  intelligent Female - no adjective Female Bing    0.057997726  0.098793428\n",
       "8  intelligent Female - intelligent Male    Bing   -0.128853771 -0.084787719\n",
       "9  intelligent Female - no adjective Male   Bing   -0.018465155  0.021768316\n",
       "10 no adjective Female - intelligent Male   Bing   -0.205838360 -0.164594284\n",
       "11 no adjective Female - no adjective Male  Bing   -0.095308424 -0.058179568\n",
       "12 intelligent Male - no adjective Male     Bing    0.088123980  0.128820672\n",
       "13 intelligent Female - no adjective Female Google -0.066799946 -0.018241271\n",
       "14 intelligent Female - intelligent Male    Google -0.022846421  0.028848354\n",
       "15 intelligent Female - no adjective Male   Google -0.092547541 -0.044431159\n",
       "16 no adjective Female - intelligent Male   Google  0.022394012  0.068649137\n",
       "17 no adjective Female - no adjective Male  Google -0.047080053 -0.004857430\n",
       "18 intelligent Male - no adjective Male     Google -0.094388221 -0.048592411\n",
       "19 intelligent Female - no adjective Female Yandex -0.038752450  0.001421047\n",
       "20 intelligent Female - intelligent Male    Yandex  0.004273902  0.047259068\n",
       "21 intelligent Female - no adjective Male   Yandex  0.009613707  0.051734253\n",
       "22 no adjective Female - intelligent Male   Yandex  0.023668060  0.065196312\n",
       "23 no adjective Female - no adjective Male  Yandex  0.029022910  0.069656453\n",
       "24 intelligent Male - no adjective Male     Yandex -0.016801727  0.026616717"
      ]
     },
     "metadata": {},
     "output_type": "display_data"
    }
   ],
   "source": [
    "# the confidence intervals here correspond to the ones in section 2.1\n",
    "confint(pairs_engine)[,c(1,2,6,7)]"
   ]
  },
  {
   "cell_type": "markdown",
   "id": "1c9dbcdc",
   "metadata": {},
   "source": [
    "### 3.2 Accross interactions"
   ]
  },
  {
   "cell_type": "code",
   "execution_count": 8,
   "id": "12ad7b58",
   "metadata": {},
   "outputs": [
    {
     "data": {
      "text/html": [
       "<table class=\"dataframe\">\n",
       "<caption>A data.frame: 4 × 5</caption>\n",
       "<thead>\n",
       "\t<tr><th></th><th scope=col>query_adjective_pairwise</th><th scope=col>gender_pairwise</th><th scope=col>engine</th><th scope=col>lower.CL</th><th scope=col>upper.CL</th></tr>\n",
       "\t<tr><th></th><th scope=col>&lt;fct&gt;</th><th scope=col>&lt;fct&gt;</th><th scope=col>&lt;fct&gt;</th><th scope=col>&lt;dbl&gt;</th><th scope=col>&lt;dbl&gt;</th></tr>\n",
       "</thead>\n",
       "<tbody>\n",
       "\t<tr><th scope=row>1</th><td>intelligent - no adjective</td><td>Female - Male</td><td>Baidu </td><td> 0.028971290</td><td> 0.111253602</td></tr>\n",
       "\t<tr><th scope=row>2</th><td>intelligent - no adjective</td><td>Female - Male</td><td>Bing  </td><td>-0.052059072</td><td>-0.008094426</td></tr>\n",
       "\t<tr><th scope=row>3</th><td>intelligent - no adjective</td><td>Female - Male</td><td>Google</td><td> 0.003508066</td><td> 0.054431349</td></tr>\n",
       "\t<tr><th scope=row>4</th><td>intelligent - no adjective</td><td>Female - Male</td><td>Yandex</td><td>-0.046137156</td><td>-0.001009237</td></tr>\n",
       "</tbody>\n",
       "</table>\n"
      ],
      "text/latex": [
       "A data.frame: 4 × 5\n",
       "\\begin{tabular}{r|lllll}\n",
       "  & query\\_adjective\\_pairwise & gender\\_pairwise & engine & lower.CL & upper.CL\\\\\n",
       "  & <fct> & <fct> & <fct> & <dbl> & <dbl>\\\\\n",
       "\\hline\n",
       "\t1 & intelligent - no adjective & Female - Male & Baidu  &  0.028971290 &  0.111253602\\\\\n",
       "\t2 & intelligent - no adjective & Female - Male & Bing   & -0.052059072 & -0.008094426\\\\\n",
       "\t3 & intelligent - no adjective & Female - Male & Google &  0.003508066 &  0.054431349\\\\\n",
       "\t4 & intelligent - no adjective & Female - Male & Yandex & -0.046137156 & -0.001009237\\\\\n",
       "\\end{tabular}\n"
      ],
      "text/markdown": [
       "\n",
       "A data.frame: 4 × 5\n",
       "\n",
       "| <!--/--> | query_adjective_pairwise &lt;fct&gt; | gender_pairwise &lt;fct&gt; | engine &lt;fct&gt; | lower.CL &lt;dbl&gt; | upper.CL &lt;dbl&gt; |\n",
       "|---|---|---|---|---|---|\n",
       "| 1 | intelligent - no adjective | Female - Male | Baidu  |  0.028971290 |  0.111253602 |\n",
       "| 2 | intelligent - no adjective | Female - Male | Bing   | -0.052059072 | -0.008094426 |\n",
       "| 3 | intelligent - no adjective | Female - Male | Google |  0.003508066 |  0.054431349 |\n",
       "| 4 | intelligent - no adjective | Female - Male | Yandex | -0.046137156 | -0.001009237 |\n",
       "\n"
      ],
      "text/plain": [
       "  query_adjective_pairwise   gender_pairwise engine lower.CL     upper.CL    \n",
       "1 intelligent - no adjective Female - Male   Baidu   0.028971290  0.111253602\n",
       "2 intelligent - no adjective Female - Male   Bing   -0.052059072 -0.008094426\n",
       "3 intelligent - no adjective Female - Male   Google  0.003508066  0.054431349\n",
       "4 intelligent - no adjective Female - Male   Yandex -0.046137156 -0.001009237"
      ]
     },
     "metadata": {},
     "output_type": "display_data"
    }
   ],
   "source": [
    "# the confidence intervals here correspond to the ones in section 2.2\n",
    "confint(pairs_interaction)[,c(1,2,3,7,8)]"
   ]
  },
  {
   "cell_type": "markdown",
   "id": "12e1f080",
   "metadata": {},
   "source": [
    "## 2.3 Effect sizes"
   ]
  },
  {
   "cell_type": "markdown",
   "id": "1033e05d",
   "metadata": {},
   "source": [
    "### 3.1 Accross search engines"
   ]
  },
  {
   "cell_type": "code",
   "execution_count": 9,
   "id": "dea04c1a",
   "metadata": {},
   "outputs": [
    {
     "data": {
      "text/html": [
       "<table class=\"dataframe\">\n",
       "<caption>A data.frame: 24 × 5</caption>\n",
       "<thead>\n",
       "\t<tr><th></th><th scope=col>contrast</th><th scope=col>engine</th><th scope=col>effect.size</th><th scope=col>lower.CL</th><th scope=col>upper.CL</th></tr>\n",
       "\t<tr><th></th><th scope=col>&lt;fct&gt;</th><th scope=col>&lt;fct&gt;</th><th scope=col>&lt;dbl&gt;</th><th scope=col>&lt;dbl&gt;</th><th scope=col>&lt;dbl&gt;</th></tr>\n",
       "</thead>\n",
       "<tbody>\n",
       "\t<tr><th scope=row>1</th><td>(intelligent Female - no adjective Female)</td><td>Baidu </td><td> 0.214312012</td><td> 0.07744754</td><td> 0.35117648</td></tr>\n",
       "\t<tr><th scope=row>2</th><td>(intelligent Female - intelligent Male)   </td><td>Baidu </td><td> 0.220965451</td><td> 0.03892731</td><td> 0.40300359</td></tr>\n",
       "\t<tr><th scope=row>3</th><td>(intelligent Female - no adjective Male)  </td><td>Baidu </td><td> 0.065800931</td><td>-0.08580794</td><td> 0.21740980</td></tr>\n",
       "\t<tr><th scope=row>4</th><td>(no adjective Female - intelligent Male)  </td><td>Baidu </td><td> 0.006653439</td><td>-0.14831459</td><td> 0.16162147</td></tr>\n",
       "\t<tr><th scope=row>5</th><td>(no adjective Female - no adjective Male) </td><td>Baidu </td><td>-0.148511081</td><td>-0.26629954</td><td>-0.03072262</td></tr>\n",
       "\t<tr><th scope=row>6</th><td>(intelligent Male - no adjective Male)    </td><td>Baidu </td><td>-0.155164520</td><td>-0.32332779</td><td> 0.01299875</td></tr>\n",
       "\t<tr><th scope=row>7</th><td>(intelligent Female - no adjective Female)</td><td>Bing  </td><td> 0.413126736</td><td> 0.33098266</td><td> 0.49527081</td></tr>\n",
       "\t<tr><th scope=row>8</th><td>(intelligent Female - intelligent Male)   </td><td>Bing  </td><td>-0.562920863</td><td>-0.65173863</td><td>-0.47410310</td></tr>\n",
       "\t<tr><th scope=row>9</th><td>(intelligent Female - no adjective Male)  </td><td>Bing  </td><td> 0.008703453</td><td>-0.07217148</td><td> 0.08957839</td></tr>\n",
       "\t<tr><th scope=row>10</th><td>(no adjective Female - intelligent Male)  </td><td>Bing  </td><td>-0.976047599</td><td>-1.05971870</td><td>-0.89237650</td></tr>\n",
       "\t<tr><th scope=row>11</th><td>(no adjective Female - no adjective Male) </td><td>Bing  </td><td>-0.404423283</td><td>-0.47920383</td><td>-0.32964274</td></tr>\n",
       "\t<tr><th scope=row>12</th><td>(intelligent Male - no adjective Male)    </td><td>Bing  </td><td> 0.571624316</td><td> 0.48955168</td><td> 0.65369695</td></tr>\n",
       "\t<tr><th scope=row>13</th><td>(intelligent Female - no adjective Female)</td><td>Google</td><td>-0.224073868</td><td>-0.32171795</td><td>-0.12642979</td></tr>\n",
       "\t<tr><th scope=row>14</th><td>(intelligent Female - intelligent Male)   </td><td>Google</td><td> 0.015814405</td><td>-0.08809945</td><td> 0.11972826</td></tr>\n",
       "\t<tr><th scope=row>15</th><td>(intelligent Female - no adjective Male)  </td><td>Google</td><td>-0.360923189</td><td>-0.45773382</td><td>-0.26411256</td></tr>\n",
       "\t<tr><th scope=row>16</th><td>(no adjective Female - intelligent Male)  </td><td>Google</td><td> 0.239888273</td><td> 0.14686766</td><td> 0.33290888</td></tr>\n",
       "\t<tr><th scope=row>17</th><td>(no adjective Female - no adjective Male) </td><td>Google</td><td>-0.136849321</td><td>-0.22173742</td><td>-0.05196122</td></tr>\n",
       "\t<tr><th scope=row>18</th><td>(intelligent Male - no adjective Male)    </td><td>Google</td><td>-0.376737594</td><td>-0.46889657</td><td>-0.28457862</td></tr>\n",
       "\t<tr><th scope=row>19</th><td>(intelligent Female - no adjective Female)</td><td>Yandex</td><td>-0.098363971</td><td>-0.17912630</td><td>-0.01760164</td></tr>\n",
       "\t<tr><th scope=row>20</th><td>(intelligent Female - intelligent Male)   </td><td>Yandex</td><td> 0.135783475</td><td> 0.04936305</td><td> 0.22220390</td></tr>\n",
       "\t<tr><th scope=row>21</th><td>(intelligent Female - no adjective Male)  </td><td>Yandex</td><td> 0.161644851</td><td> 0.07695606</td><td> 0.24633364</td></tr>\n",
       "\t<tr><th scope=row>22</th><td>(no adjective Female - intelligent Male)  </td><td>Yandex</td><td> 0.234147446</td><td> 0.15062598</td><td> 0.31766891</td></tr>\n",
       "\t<tr><th scope=row>23</th><td>(no adjective Female - no adjective Male) </td><td>Yandex</td><td> 0.260008822</td><td> 0.17827443</td><td> 0.34174322</td></tr>\n",
       "\t<tr><th scope=row>24</th><td>(intelligent Male - no adjective Male)    </td><td>Yandex</td><td> 0.025861376</td><td>-0.06141625</td><td> 0.11313900</td></tr>\n",
       "</tbody>\n",
       "</table>\n"
      ],
      "text/latex": [
       "A data.frame: 24 × 5\n",
       "\\begin{tabular}{r|lllll}\n",
       "  & contrast & engine & effect.size & lower.CL & upper.CL\\\\\n",
       "  & <fct> & <fct> & <dbl> & <dbl> & <dbl>\\\\\n",
       "\\hline\n",
       "\t1 & (intelligent Female - no adjective Female) & Baidu  &  0.214312012 &  0.07744754 &  0.35117648\\\\\n",
       "\t2 & (intelligent Female - intelligent Male)    & Baidu  &  0.220965451 &  0.03892731 &  0.40300359\\\\\n",
       "\t3 & (intelligent Female - no adjective Male)   & Baidu  &  0.065800931 & -0.08580794 &  0.21740980\\\\\n",
       "\t4 & (no adjective Female - intelligent Male)   & Baidu  &  0.006653439 & -0.14831459 &  0.16162147\\\\\n",
       "\t5 & (no adjective Female - no adjective Male)  & Baidu  & -0.148511081 & -0.26629954 & -0.03072262\\\\\n",
       "\t6 & (intelligent Male - no adjective Male)     & Baidu  & -0.155164520 & -0.32332779 &  0.01299875\\\\\n",
       "\t7 & (intelligent Female - no adjective Female) & Bing   &  0.413126736 &  0.33098266 &  0.49527081\\\\\n",
       "\t8 & (intelligent Female - intelligent Male)    & Bing   & -0.562920863 & -0.65173863 & -0.47410310\\\\\n",
       "\t9 & (intelligent Female - no adjective Male)   & Bing   &  0.008703453 & -0.07217148 &  0.08957839\\\\\n",
       "\t10 & (no adjective Female - intelligent Male)   & Bing   & -0.976047599 & -1.05971870 & -0.89237650\\\\\n",
       "\t11 & (no adjective Female - no adjective Male)  & Bing   & -0.404423283 & -0.47920383 & -0.32964274\\\\\n",
       "\t12 & (intelligent Male - no adjective Male)     & Bing   &  0.571624316 &  0.48955168 &  0.65369695\\\\\n",
       "\t13 & (intelligent Female - no adjective Female) & Google & -0.224073868 & -0.32171795 & -0.12642979\\\\\n",
       "\t14 & (intelligent Female - intelligent Male)    & Google &  0.015814405 & -0.08809945 &  0.11972826\\\\\n",
       "\t15 & (intelligent Female - no adjective Male)   & Google & -0.360923189 & -0.45773382 & -0.26411256\\\\\n",
       "\t16 & (no adjective Female - intelligent Male)   & Google &  0.239888273 &  0.14686766 &  0.33290888\\\\\n",
       "\t17 & (no adjective Female - no adjective Male)  & Google & -0.136849321 & -0.22173742 & -0.05196122\\\\\n",
       "\t18 & (intelligent Male - no adjective Male)     & Google & -0.376737594 & -0.46889657 & -0.28457862\\\\\n",
       "\t19 & (intelligent Female - no adjective Female) & Yandex & -0.098363971 & -0.17912630 & -0.01760164\\\\\n",
       "\t20 & (intelligent Female - intelligent Male)    & Yandex &  0.135783475 &  0.04936305 &  0.22220390\\\\\n",
       "\t21 & (intelligent Female - no adjective Male)   & Yandex &  0.161644851 &  0.07695606 &  0.24633364\\\\\n",
       "\t22 & (no adjective Female - intelligent Male)   & Yandex &  0.234147446 &  0.15062598 &  0.31766891\\\\\n",
       "\t23 & (no adjective Female - no adjective Male)  & Yandex &  0.260008822 &  0.17827443 &  0.34174322\\\\\n",
       "\t24 & (intelligent Male - no adjective Male)     & Yandex &  0.025861376 & -0.06141625 &  0.11313900\\\\\n",
       "\\end{tabular}\n"
      ],
      "text/markdown": [
       "\n",
       "A data.frame: 24 × 5\n",
       "\n",
       "| <!--/--> | contrast &lt;fct&gt; | engine &lt;fct&gt; | effect.size &lt;dbl&gt; | lower.CL &lt;dbl&gt; | upper.CL &lt;dbl&gt; |\n",
       "|---|---|---|---|---|---|\n",
       "| 1 | (intelligent Female - no adjective Female) | Baidu  |  0.214312012 |  0.07744754 |  0.35117648 |\n",
       "| 2 | (intelligent Female - intelligent Male)    | Baidu  |  0.220965451 |  0.03892731 |  0.40300359 |\n",
       "| 3 | (intelligent Female - no adjective Male)   | Baidu  |  0.065800931 | -0.08580794 |  0.21740980 |\n",
       "| 4 | (no adjective Female - intelligent Male)   | Baidu  |  0.006653439 | -0.14831459 |  0.16162147 |\n",
       "| 5 | (no adjective Female - no adjective Male)  | Baidu  | -0.148511081 | -0.26629954 | -0.03072262 |\n",
       "| 6 | (intelligent Male - no adjective Male)     | Baidu  | -0.155164520 | -0.32332779 |  0.01299875 |\n",
       "| 7 | (intelligent Female - no adjective Female) | Bing   |  0.413126736 |  0.33098266 |  0.49527081 |\n",
       "| 8 | (intelligent Female - intelligent Male)    | Bing   | -0.562920863 | -0.65173863 | -0.47410310 |\n",
       "| 9 | (intelligent Female - no adjective Male)   | Bing   |  0.008703453 | -0.07217148 |  0.08957839 |\n",
       "| 10 | (no adjective Female - intelligent Male)   | Bing   | -0.976047599 | -1.05971870 | -0.89237650 |\n",
       "| 11 | (no adjective Female - no adjective Male)  | Bing   | -0.404423283 | -0.47920383 | -0.32964274 |\n",
       "| 12 | (intelligent Male - no adjective Male)     | Bing   |  0.571624316 |  0.48955168 |  0.65369695 |\n",
       "| 13 | (intelligent Female - no adjective Female) | Google | -0.224073868 | -0.32171795 | -0.12642979 |\n",
       "| 14 | (intelligent Female - intelligent Male)    | Google |  0.015814405 | -0.08809945 |  0.11972826 |\n",
       "| 15 | (intelligent Female - no adjective Male)   | Google | -0.360923189 | -0.45773382 | -0.26411256 |\n",
       "| 16 | (no adjective Female - intelligent Male)   | Google |  0.239888273 |  0.14686766 |  0.33290888 |\n",
       "| 17 | (no adjective Female - no adjective Male)  | Google | -0.136849321 | -0.22173742 | -0.05196122 |\n",
       "| 18 | (intelligent Male - no adjective Male)     | Google | -0.376737594 | -0.46889657 | -0.28457862 |\n",
       "| 19 | (intelligent Female - no adjective Female) | Yandex | -0.098363971 | -0.17912630 | -0.01760164 |\n",
       "| 20 | (intelligent Female - intelligent Male)    | Yandex |  0.135783475 |  0.04936305 |  0.22220390 |\n",
       "| 21 | (intelligent Female - no adjective Male)   | Yandex |  0.161644851 |  0.07695606 |  0.24633364 |\n",
       "| 22 | (no adjective Female - intelligent Male)   | Yandex |  0.234147446 |  0.15062598 |  0.31766891 |\n",
       "| 23 | (no adjective Female - no adjective Male)  | Yandex |  0.260008822 |  0.17827443 |  0.34174322 |\n",
       "| 24 | (intelligent Male - no adjective Male)     | Yandex |  0.025861376 | -0.06141625 |  0.11313900 |\n",
       "\n"
      ],
      "text/plain": [
       "   contrast                                   engine effect.size  lower.CL    upper.CL   \n",
       "1  (intelligent Female - no adjective Female) Baidu   0.214312012  0.07744754  0.35117648\n",
       "2  (intelligent Female - intelligent Male)    Baidu   0.220965451  0.03892731  0.40300359\n",
       "3  (intelligent Female - no adjective Male)   Baidu   0.065800931 -0.08580794  0.21740980\n",
       "4  (no adjective Female - intelligent Male)   Baidu   0.006653439 -0.14831459  0.16162147\n",
       "5  (no adjective Female - no adjective Male)  Baidu  -0.148511081 -0.26629954 -0.03072262\n",
       "6  (intelligent Male - no adjective Male)     Baidu  -0.155164520 -0.32332779  0.01299875\n",
       "7  (intelligent Female - no adjective Female) Bing    0.413126736  0.33098266  0.49527081\n",
       "8  (intelligent Female - intelligent Male)    Bing   -0.562920863 -0.65173863 -0.47410310\n",
       "9  (intelligent Female - no adjective Male)   Bing    0.008703453 -0.07217148  0.08957839\n",
       "10 (no adjective Female - intelligent Male)   Bing   -0.976047599 -1.05971870 -0.89237650\n",
       "11 (no adjective Female - no adjective Male)  Bing   -0.404423283 -0.47920383 -0.32964274\n",
       "12 (intelligent Male - no adjective Male)     Bing    0.571624316  0.48955168  0.65369695\n",
       "13 (intelligent Female - no adjective Female) Google -0.224073868 -0.32171795 -0.12642979\n",
       "14 (intelligent Female - intelligent Male)    Google  0.015814405 -0.08809945  0.11972826\n",
       "15 (intelligent Female - no adjective Male)   Google -0.360923189 -0.45773382 -0.26411256\n",
       "16 (no adjective Female - intelligent Male)   Google  0.239888273  0.14686766  0.33290888\n",
       "17 (no adjective Female - no adjective Male)  Google -0.136849321 -0.22173742 -0.05196122\n",
       "18 (intelligent Male - no adjective Male)     Google -0.376737594 -0.46889657 -0.28457862\n",
       "19 (intelligent Female - no adjective Female) Yandex -0.098363971 -0.17912630 -0.01760164\n",
       "20 (intelligent Female - intelligent Male)    Yandex  0.135783475  0.04936305  0.22220390\n",
       "21 (intelligent Female - no adjective Male)   Yandex  0.161644851  0.07695606  0.24633364\n",
       "22 (no adjective Female - intelligent Male)   Yandex  0.234147446  0.15062598  0.31766891\n",
       "23 (no adjective Female - no adjective Male)  Yandex  0.260008822  0.17827443  0.34174322\n",
       "24 (intelligent Male - no adjective Male)     Yandex  0.025861376 -0.06141625  0.11313900"
      ]
     },
     "metadata": {},
     "output_type": "display_data"
    }
   ],
   "source": [
    "# the effect sizess here correspond to the ones in section 2.1\n",
    "summary(eff_size(pairs_engine, sigma = sigma(fit), edf = df.residual(fit), method = \"identity\"))[,c(1,2,3,6,7)]"
   ]
  },
  {
   "cell_type": "markdown",
   "id": "28bdd5d0",
   "metadata": {},
   "source": [
    "### 3.2 Accross interactions"
   ]
  },
  {
   "cell_type": "code",
   "execution_count": 10,
   "id": "826ffe7b",
   "metadata": {},
   "outputs": [
    {
     "data": {
      "text/html": [
       "<table class=\"dataframe\">\n",
       "<caption>A data.frame: 4 × 5</caption>\n",
       "<thead>\n",
       "\t<tr><th></th><th scope=col>contrast</th><th scope=col>engine</th><th scope=col>effect.size</th><th scope=col>lower.CL</th><th scope=col>upper.CL</th></tr>\n",
       "\t<tr><th></th><th scope=col>&lt;fct&gt;</th><th scope=col>&lt;fct&gt;</th><th scope=col>&lt;dbl&gt;</th><th scope=col>&lt;dbl&gt;</th><th scope=col>&lt;dbl&gt;</th></tr>\n",
       "</thead>\n",
       "<tbody>\n",
       "\t<tr><th scope=row>1</th><td>(intelligent - no adjective Female - Male)</td><td>Baidu </td><td> 0.3694765</td><td> 0.15262997</td><td> 0.586323096</td></tr>\n",
       "\t<tr><th scope=row>2</th><td>(intelligent - no adjective Female - Male)</td><td>Bing  </td><td>-0.1584976</td><td>-0.27435389</td><td>-0.042641273</td></tr>\n",
       "\t<tr><th scope=row>3</th><td>(intelligent - no adjective Female - Male)</td><td>Google</td><td> 0.1526637</td><td> 0.01847509</td><td> 0.286852359</td></tr>\n",
       "\t<tr><th scope=row>4</th><td>(intelligent - no adjective Female - Male)</td><td>Yandex</td><td>-0.1242253</td><td>-0.24314092</td><td>-0.005309773</td></tr>\n",
       "</tbody>\n",
       "</table>\n"
      ],
      "text/latex": [
       "A data.frame: 4 × 5\n",
       "\\begin{tabular}{r|lllll}\n",
       "  & contrast & engine & effect.size & lower.CL & upper.CL\\\\\n",
       "  & <fct> & <fct> & <dbl> & <dbl> & <dbl>\\\\\n",
       "\\hline\n",
       "\t1 & (intelligent - no adjective Female - Male) & Baidu  &  0.3694765 &  0.15262997 &  0.586323096\\\\\n",
       "\t2 & (intelligent - no adjective Female - Male) & Bing   & -0.1584976 & -0.27435389 & -0.042641273\\\\\n",
       "\t3 & (intelligent - no adjective Female - Male) & Google &  0.1526637 &  0.01847509 &  0.286852359\\\\\n",
       "\t4 & (intelligent - no adjective Female - Male) & Yandex & -0.1242253 & -0.24314092 & -0.005309773\\\\\n",
       "\\end{tabular}\n"
      ],
      "text/markdown": [
       "\n",
       "A data.frame: 4 × 5\n",
       "\n",
       "| <!--/--> | contrast &lt;fct&gt; | engine &lt;fct&gt; | effect.size &lt;dbl&gt; | lower.CL &lt;dbl&gt; | upper.CL &lt;dbl&gt; |\n",
       "|---|---|---|---|---|---|\n",
       "| 1 | (intelligent - no adjective Female - Male) | Baidu  |  0.3694765 |  0.15262997 |  0.586323096 |\n",
       "| 2 | (intelligent - no adjective Female - Male) | Bing   | -0.1584976 | -0.27435389 | -0.042641273 |\n",
       "| 3 | (intelligent - no adjective Female - Male) | Google |  0.1526637 |  0.01847509 |  0.286852359 |\n",
       "| 4 | (intelligent - no adjective Female - Male) | Yandex | -0.1242253 | -0.24314092 | -0.005309773 |\n",
       "\n"
      ],
      "text/plain": [
       "  contrast                                   engine effect.size lower.CL    upper.CL    \n",
       "1 (intelligent - no adjective Female - Male) Baidu   0.3694765   0.15262997  0.586323096\n",
       "2 (intelligent - no adjective Female - Male) Bing   -0.1584976  -0.27435389 -0.042641273\n",
       "3 (intelligent - no adjective Female - Male) Google  0.1526637   0.01847509  0.286852359\n",
       "4 (intelligent - no adjective Female - Male) Yandex -0.1242253  -0.24314092 -0.005309773"
      ]
     },
     "metadata": {},
     "output_type": "display_data"
    }
   ],
   "source": [
    "# the effect sizess here correspond to the ones in section 2.2\n",
    "summary( eff_size(pairs_interaction, sigma(fit), df.residual(fit), method = \"identity\"))[,c(1,2,3,6,7)]\n"
   ]
  },
  {
   "cell_type": "code",
   "execution_count": null,
   "id": "e64b5823",
   "metadata": {},
   "outputs": [],
   "source": []
  }
 ],
 "metadata": {
  "hide_input": false,
  "kernelspec": {
   "display_name": "R",
   "language": "R",
   "name": "ir"
  },
  "language_info": {
   "codemirror_mode": "r",
   "file_extension": ".r",
   "mimetype": "text/x-r-source",
   "name": "R",
   "pygments_lexer": "r",
   "version": "4.1.3"
  }
 },
 "nbformat": 4,
 "nbformat_minor": 5
}

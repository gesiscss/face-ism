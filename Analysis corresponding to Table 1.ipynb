{
 "cells": [
  {
   "cell_type": "code",
   "execution_count": 1,
   "id": "6b32eebc",
   "metadata": {},
   "outputs": [
    {
     "name": "stderr",
     "output_type": "stream",
     "text": [
      "Loading required package: carData\n",
      "\n"
     ]
    }
   ],
   "source": [
    "library(tidyr)\n",
    "library(car)\n",
    "library(emmeans)\n",
    "\n",
    "# increase the number of characters that can be printed\n",
    "options(\"width\"=200)"
   ]
  },
  {
   "cell_type": "code",
   "execution_count": 2,
   "id": "e0c9691c",
   "metadata": {},
   "outputs": [],
   "source": [
    "df <- read.csv(\"data/data.csv\")\n",
    "\n",
    "# only consider the cases with one face\n",
    "df  <- subset(df, df$has_faces == 1)"
   ]
  },
  {
   "cell_type": "markdown",
   "id": "4b7f0c0d",
   "metadata": {},
   "source": [
    "# Number of faces in the person queries\n",
    "\n",
    "**RQ:** are there more male than female faces in the \"person\" and \"intelligent person\" query?\n",
    "\n",
    "**Operazionalization:** if you search for \"person\" (or \"intelligent person\") and the picture has a face, is more more likely to be male or female? The expectation should be 50/50.\n"
   ]
  },
  {
   "cell_type": "code",
   "execution_count": 3,
   "id": "e8adef62",
   "metadata": {},
   "outputs": [],
   "source": [
    "# filter by the query type person, i.e. \"person\" and \"intelligent person\" queries\n",
    "dfp <- subset(df, df$query_type ==\"person\")"
   ]
  },
  {
   "cell_type": "markdown",
   "id": "10677f5b",
   "metadata": {},
   "source": [
    "## 1. Anova table"
   ]
  },
  {
   "cell_type": "code",
   "execution_count": 4,
   "id": "2f30ddbd",
   "metadata": {},
   "outputs": [
    {
     "name": "stdout",
     "output_type": "stream",
     "text": [
      "Analysis of Deviance Table (Type III tests)\n",
      "\n",
      "Response: measurement\n",
      "                   LR Chisq Df Pr(>Chisq)    \n",
      "faces                 2.615  1     0.1058    \n",
      "query                23.493  1  1.254e-06 ***\n",
      "engine               37.166  3  4.243e-08 ***\n",
      "region                0.000  2     1.0000    \n",
      "browser               0.000  1     1.0000    \n",
      "wave                  0.000  1     1.0000    \n",
      "faces:query          46.987  1  7.145e-12 ***\n",
      "faces:engine         74.360  3  4.969e-16 ***\n",
      "query:engine         80.105  3  < 2.2e-16 ***\n",
      "faces:query:engine  160.230  3  < 2.2e-16 ***\n",
      "---\n",
      "Signif. codes:  0 ‘***’ 0.001 ‘**’ 0.01 ‘*’ 0.05 ‘.’ 0.1 ‘ ’ 1\n"
     ]
    }
   ],
   "source": [
    "# better labels for the Anova output\n",
    "dfp$Female <- dfp$has_faces_female\n",
    "dfp$Male <- dfp$has_faces_male\n",
    "\n",
    "# convert to long format for Anova test\n",
    "dfp_l <- gather(dfp, faces, measurement, Female:Male)\n",
    "\n",
    "# fit the model\n",
    "fit <- glm(measurement ~ faces*query*engine+region+browser+wave, data=dfp_l, family = binomial())\n",
    "\n",
    "# display general anova table (factors and interactions only)\n",
    "print(Anova(fit, type=\"III\"))\n",
    "\n",
    "# full summary of the fit (including contrasts against the intercept)\n",
    "# summary(fit)"
   ]
  },
  {
   "cell_type": "markdown",
   "id": "1c27b9b5",
   "metadata": {},
   "source": [
    "## 2. Contrast tests"
   ]
  },
  {
   "cell_type": "markdown",
   "id": "6220af35",
   "metadata": {},
   "source": [
    "### 2.1 Accross search engines"
   ]
  },
  {
   "cell_type": "code",
   "execution_count": 5,
   "id": "3aa416ca",
   "metadata": {},
   "outputs": [
    {
     "name": "stdout",
     "output_type": "stream",
     "text": [
      "engine = Baidu:\n",
      " contrast                                            odds.ratio      SE  df null z.ratio p.value\n",
      " intelligent person Female / person Female               0.3980 0.07642 Inf    1  -4.798  <.0001\n",
      " intelligent person Female / intelligent person Male     0.7209 0.14613 Inf    1  -1.614  0.3704\n",
      " intelligent person Female / person Male                 1.8113 0.34778 Inf    1   3.094  0.0106\n",
      " person Female / intelligent person Male                 1.8113 0.34778 Inf    1   3.094  0.0106\n",
      " person Female / person Male                             4.5511 0.82221 Inf    1   8.388  <.0001\n",
      " intelligent person Male / person Male                   2.5126 0.48242 Inf    1   4.798  <.0001\n",
      "\n",
      "engine = Bing:\n",
      " contrast                                            odds.ratio      SE  df null z.ratio p.value\n",
      " intelligent person Female / person Female               0.8009 0.07342 Inf    1  -2.422  0.0730\n",
      " intelligent person Female / intelligent person Male     0.1463 0.01441 Inf    1 -19.511  <.0001\n",
      " intelligent person Female / person Male                 0.1827 0.01675 Inf    1 -18.541  <.0001\n",
      " person Female / intelligent person Male                 0.1827 0.01675 Inf    1 -18.541  <.0001\n",
      " person Female / person Male                             0.2282 0.01921 Inf    1 -17.553  <.0001\n",
      " intelligent person Male / person Male                   1.2486 0.11447 Inf    1   2.422  0.0730\n",
      "\n",
      "engine = Google:\n",
      " contrast                                            odds.ratio      SE  df null z.ratio p.value\n",
      " intelligent person Female / person Female               0.3905 0.04527 Inf    1  -8.112  <.0001\n",
      " intelligent person Female / intelligent person Male     0.1881 0.02443 Inf    1 -12.866  <.0001\n",
      " intelligent person Female / person Male                 0.4816 0.05582 Inf    1  -6.303  <.0001\n",
      " person Female / intelligent person Male                 0.4816 0.05582 Inf    1  -6.303  <.0001\n",
      " person Female / person Male                             1.2333 0.12334 Inf    1   2.096  0.1542\n",
      " intelligent person Male / person Male                   2.5607 0.29682 Inf    1   8.112  <.0001\n",
      "\n",
      "engine = Yandex:\n",
      " contrast                                            odds.ratio      SE  df null z.ratio p.value\n",
      " intelligent person Female / person Female               1.5011 0.17314 Inf    1   3.522  0.0024\n",
      " intelligent person Female / intelligent person Male     0.0975 0.01123 Inf    1 -20.216  <.0001\n",
      " intelligent person Female / person Male                 0.0650 0.00749 Inf    1 -23.703  <.0001\n",
      " person Female / intelligent person Male                 0.0650 0.00749 Inf    1 -23.703  <.0001\n",
      " person Female / person Male                             0.0433 0.00500 Inf    1 -27.178  <.0001\n",
      " intelligent person Male / person Male                   0.6662 0.07683 Inf    1  -3.522  0.0024\n",
      "\n",
      "Results are averaged over the levels of: region, browser, wave \n",
      "P value adjustment: tukey method for comparing a family of 4 estimates \n",
      "Tests are performed on the log odds ratio scale \n"
     ]
    }
   ],
   "source": [
    "# full table of contrasts by search engine including. The interactions include those across \n",
    "# queries, but we only report the ones within the query term (i.e. \"person Female / person Male\" \n",
    "# and intelligent person Female / person Male\")\n",
    "pairs_engine <- pairs(emmeans(fit, ~ query * faces | engine),type = \"response\")\n",
    "\n",
    "# print the pairs\n",
    "print(pairs_engine)"
   ]
  },
  {
   "cell_type": "markdown",
   "id": "0986bbed",
   "metadata": {},
   "source": [
    "### 2.2 Accross interactions"
   ]
  },
  {
   "cell_type": "code",
   "execution_count": 6,
   "id": "592002b4",
   "metadata": {},
   "outputs": [
    {
     "name": "stdout",
     "output_type": "stream",
     "text": [
      "engine = Baidu:\n",
      " query_pairwise              faces_pairwise odds.ratio     SE  df null z.ratio p.value\n",
      " intelligent person / person Female / Male       0.158 0.0430 Inf    1  -6.786  <.0001\n",
      "\n",
      "engine = Bing:\n",
      " query_pairwise              faces_pairwise odds.ratio     SE  df null z.ratio p.value\n",
      " intelligent person / person Female / Male       0.641 0.0831 Inf    1  -3.427  0.0006\n",
      "\n",
      "engine = Google:\n",
      " query_pairwise              faces_pairwise odds.ratio     SE  df null z.ratio p.value\n",
      " intelligent person / person Female / Male       0.152 0.0250 Inf    1 -11.473  <.0001\n",
      "\n",
      "engine = Yandex:\n",
      " query_pairwise              faces_pairwise odds.ratio     SE  df null z.ratio p.value\n",
      " intelligent person / person Female / Male       2.253 0.3675 Inf    1   4.981  <.0001\n",
      "\n",
      "Results are averaged over the levels of: region, browser, wave \n",
      "Tests are performed on the log odds ratio scale \n"
     ]
    }
   ],
   "source": [
    "# full table of contrasts by interactions of search engine and query\n",
    "# we only report the ones within the query term (i.e. \"person Female / person Mal\" and\n",
    "# intelligent person Female / person Male\")\n",
    "pairs_interaction <- pairs(emmeans(fit, ~ query * faces  | engine,type = \"response\"), interaction = \"pairwise\")\n",
    "\n",
    "# print the pairs\n",
    "print(pairs_interaction)"
   ]
  },
  {
   "cell_type": "markdown",
   "id": "94866259",
   "metadata": {},
   "source": [
    "## 3 Confidence intervals"
   ]
  },
  {
   "cell_type": "markdown",
   "id": "f4f4e769",
   "metadata": {},
   "source": [
    "### 3.1 Accross search engines"
   ]
  },
  {
   "cell_type": "code",
   "execution_count": 7,
   "id": "59a8fb40",
   "metadata": {},
   "outputs": [
    {
     "data": {
      "text/html": [
       "<table class=\"dataframe\">\n",
       "<caption>A data.frame: 24 × 4</caption>\n",
       "<thead>\n",
       "\t<tr><th></th><th scope=col>contrast</th><th scope=col>engine</th><th scope=col>asymp.LCL</th><th scope=col>asymp.UCL</th></tr>\n",
       "\t<tr><th></th><th scope=col>&lt;fct&gt;</th><th scope=col>&lt;fct&gt;</th><th scope=col>&lt;dbl&gt;</th><th scope=col>&lt;dbl&gt;</th></tr>\n",
       "</thead>\n",
       "<tbody>\n",
       "\t<tr><th scope=row>1</th><td>intelligent person Female / person Female          </td><td>Baidu </td><td>0.24302855</td><td>0.65177628</td></tr>\n",
       "\t<tr><th scope=row>2</th><td>intelligent person Female / intelligent person Male</td><td>Baidu </td><td>0.42826218</td><td>1.21349181</td></tr>\n",
       "\t<tr><th scope=row>3</th><td>intelligent person Female / person Male            </td><td>Baidu </td><td>1.10604994</td><td>2.96630627</td></tr>\n",
       "\t<tr><th scope=row>4</th><td>person Female / intelligent person Male            </td><td>Baidu </td><td>1.10604994</td><td>2.96630627</td></tr>\n",
       "\t<tr><th scope=row>5</th><td>person Female / person Male                        </td><td>Baidu </td><td>2.86120880</td><td>7.23911250</td></tr>\n",
       "\t<tr><th scope=row>6</th><td>intelligent person Male / person Male              </td><td>Baidu </td><td>1.53426878</td><td>4.11474287</td></tr>\n",
       "\t<tr><th scope=row>7</th><td>intelligent person Female / person Female          </td><td>Bing  </td><td>0.63282371</td><td>1.01356314</td></tr>\n",
       "\t<tr><th scope=row>8</th><td>intelligent person Female / intelligent person Male</td><td>Bing  </td><td>0.11362660</td><td>0.18848394</td></tr>\n",
       "\t<tr><th scope=row>9</th><td>intelligent person Female / person Male            </td><td>Bing  </td><td>0.14438643</td><td>0.23125676</td></tr>\n",
       "\t<tr><th scope=row>10</th><td>person Female / intelligent person Male            </td><td>Bing  </td><td>0.14438643</td><td>0.23125676</td></tr>\n",
       "\t<tr><th scope=row>11</th><td>person Female / person Male                        </td><td>Bing  </td><td>0.18378797</td><td>0.28325017</td></tr>\n",
       "\t<tr><th scope=row>12</th><td>intelligent person Male / person Male              </td><td>Bing  </td><td>0.98661836</td><td>1.58021892</td></tr>\n",
       "\t<tr><th scope=row>13</th><td>intelligent person Female / person Female          </td><td>Google</td><td>0.28994014</td><td>0.52596841</td></tr>\n",
       "\t<tr><th scope=row>14</th><td>intelligent person Female / intelligent person Male</td><td>Google</td><td>0.13471794</td><td>0.26255845</td></tr>\n",
       "\t<tr><th scope=row>15</th><td>intelligent person Female / person Male            </td><td>Google</td><td>0.35757409</td><td>0.64866038</td></tr>\n",
       "\t<tr><th scope=row>16</th><td>person Female / intelligent person Male            </td><td>Google</td><td>0.35757409</td><td>0.64866038</td></tr>\n",
       "\t<tr><th scope=row>17</th><td>person Female / person Male                        </td><td>Google</td><td>0.95383260</td><td>1.59456877</td></tr>\n",
       "\t<tr><th scope=row>18</th><td>intelligent person Male / person Male              </td><td>Google</td><td>1.90125487</td><td>3.44898782</td></tr>\n",
       "\t<tr><th scope=row>19</th><td>intelligent person Female / person Female          </td><td>Yandex</td><td>1.11617732</td><td>2.01883128</td></tr>\n",
       "\t<tr><th scope=row>20</th><td>intelligent person Female / intelligent person Male</td><td>Yandex</td><td>0.07255984</td><td>0.13110143</td></tr>\n",
       "\t<tr><th scope=row>21</th><td>intelligent person Female / person Male            </td><td>Yandex</td><td>0.04831165</td><td>0.08738133</td></tr>\n",
       "\t<tr><th scope=row>22</th><td>person Female / intelligent person Male            </td><td>Yandex</td><td>0.04831165</td><td>0.08738133</td></tr>\n",
       "\t<tr><th scope=row>23</th><td>person Female / person Male                        </td><td>Yandex</td><td>0.03216720</td><td>0.05824036</td></tr>\n",
       "\t<tr><th scope=row>24</th><td>intelligent person Male / person Male              </td><td>Yandex</td><td>0.49533609</td><td>0.89591499</td></tr>\n",
       "</tbody>\n",
       "</table>\n"
      ],
      "text/latex": [
       "A data.frame: 24 × 4\n",
       "\\begin{tabular}{r|llll}\n",
       "  & contrast & engine & asymp.LCL & asymp.UCL\\\\\n",
       "  & <fct> & <fct> & <dbl> & <dbl>\\\\\n",
       "\\hline\n",
       "\t1 & intelligent person Female / person Female           & Baidu  & 0.24302855 & 0.65177628\\\\\n",
       "\t2 & intelligent person Female / intelligent person Male & Baidu  & 0.42826218 & 1.21349181\\\\\n",
       "\t3 & intelligent person Female / person Male             & Baidu  & 1.10604994 & 2.96630627\\\\\n",
       "\t4 & person Female / intelligent person Male             & Baidu  & 1.10604994 & 2.96630627\\\\\n",
       "\t5 & person Female / person Male                         & Baidu  & 2.86120880 & 7.23911250\\\\\n",
       "\t6 & intelligent person Male / person Male               & Baidu  & 1.53426878 & 4.11474287\\\\\n",
       "\t7 & intelligent person Female / person Female           & Bing   & 0.63282371 & 1.01356314\\\\\n",
       "\t8 & intelligent person Female / intelligent person Male & Bing   & 0.11362660 & 0.18848394\\\\\n",
       "\t9 & intelligent person Female / person Male             & Bing   & 0.14438643 & 0.23125676\\\\\n",
       "\t10 & person Female / intelligent person Male             & Bing   & 0.14438643 & 0.23125676\\\\\n",
       "\t11 & person Female / person Male                         & Bing   & 0.18378797 & 0.28325017\\\\\n",
       "\t12 & intelligent person Male / person Male               & Bing   & 0.98661836 & 1.58021892\\\\\n",
       "\t13 & intelligent person Female / person Female           & Google & 0.28994014 & 0.52596841\\\\\n",
       "\t14 & intelligent person Female / intelligent person Male & Google & 0.13471794 & 0.26255845\\\\\n",
       "\t15 & intelligent person Female / person Male             & Google & 0.35757409 & 0.64866038\\\\\n",
       "\t16 & person Female / intelligent person Male             & Google & 0.35757409 & 0.64866038\\\\\n",
       "\t17 & person Female / person Male                         & Google & 0.95383260 & 1.59456877\\\\\n",
       "\t18 & intelligent person Male / person Male               & Google & 1.90125487 & 3.44898782\\\\\n",
       "\t19 & intelligent person Female / person Female           & Yandex & 1.11617732 & 2.01883128\\\\\n",
       "\t20 & intelligent person Female / intelligent person Male & Yandex & 0.07255984 & 0.13110143\\\\\n",
       "\t21 & intelligent person Female / person Male             & Yandex & 0.04831165 & 0.08738133\\\\\n",
       "\t22 & person Female / intelligent person Male             & Yandex & 0.04831165 & 0.08738133\\\\\n",
       "\t23 & person Female / person Male                         & Yandex & 0.03216720 & 0.05824036\\\\\n",
       "\t24 & intelligent person Male / person Male               & Yandex & 0.49533609 & 0.89591499\\\\\n",
       "\\end{tabular}\n"
      ],
      "text/markdown": [
       "\n",
       "A data.frame: 24 × 4\n",
       "\n",
       "| <!--/--> | contrast &lt;fct&gt; | engine &lt;fct&gt; | asymp.LCL &lt;dbl&gt; | asymp.UCL &lt;dbl&gt; |\n",
       "|---|---|---|---|---|\n",
       "| 1 | intelligent person Female / person Female           | Baidu  | 0.24302855 | 0.65177628 |\n",
       "| 2 | intelligent person Female / intelligent person Male | Baidu  | 0.42826218 | 1.21349181 |\n",
       "| 3 | intelligent person Female / person Male             | Baidu  | 1.10604994 | 2.96630627 |\n",
       "| 4 | person Female / intelligent person Male             | Baidu  | 1.10604994 | 2.96630627 |\n",
       "| 5 | person Female / person Male                         | Baidu  | 2.86120880 | 7.23911250 |\n",
       "| 6 | intelligent person Male / person Male               | Baidu  | 1.53426878 | 4.11474287 |\n",
       "| 7 | intelligent person Female / person Female           | Bing   | 0.63282371 | 1.01356314 |\n",
       "| 8 | intelligent person Female / intelligent person Male | Bing   | 0.11362660 | 0.18848394 |\n",
       "| 9 | intelligent person Female / person Male             | Bing   | 0.14438643 | 0.23125676 |\n",
       "| 10 | person Female / intelligent person Male             | Bing   | 0.14438643 | 0.23125676 |\n",
       "| 11 | person Female / person Male                         | Bing   | 0.18378797 | 0.28325017 |\n",
       "| 12 | intelligent person Male / person Male               | Bing   | 0.98661836 | 1.58021892 |\n",
       "| 13 | intelligent person Female / person Female           | Google | 0.28994014 | 0.52596841 |\n",
       "| 14 | intelligent person Female / intelligent person Male | Google | 0.13471794 | 0.26255845 |\n",
       "| 15 | intelligent person Female / person Male             | Google | 0.35757409 | 0.64866038 |\n",
       "| 16 | person Female / intelligent person Male             | Google | 0.35757409 | 0.64866038 |\n",
       "| 17 | person Female / person Male                         | Google | 0.95383260 | 1.59456877 |\n",
       "| 18 | intelligent person Male / person Male               | Google | 1.90125487 | 3.44898782 |\n",
       "| 19 | intelligent person Female / person Female           | Yandex | 1.11617732 | 2.01883128 |\n",
       "| 20 | intelligent person Female / intelligent person Male | Yandex | 0.07255984 | 0.13110143 |\n",
       "| 21 | intelligent person Female / person Male             | Yandex | 0.04831165 | 0.08738133 |\n",
       "| 22 | person Female / intelligent person Male             | Yandex | 0.04831165 | 0.08738133 |\n",
       "| 23 | person Female / person Male                         | Yandex | 0.03216720 | 0.05824036 |\n",
       "| 24 | intelligent person Male / person Male               | Yandex | 0.49533609 | 0.89591499 |\n",
       "\n"
      ],
      "text/plain": [
       "   contrast                                            engine asymp.LCL  asymp.UCL \n",
       "1  intelligent person Female / person Female           Baidu  0.24302855 0.65177628\n",
       "2  intelligent person Female / intelligent person Male Baidu  0.42826218 1.21349181\n",
       "3  intelligent person Female / person Male             Baidu  1.10604994 2.96630627\n",
       "4  person Female / intelligent person Male             Baidu  1.10604994 2.96630627\n",
       "5  person Female / person Male                         Baidu  2.86120880 7.23911250\n",
       "6  intelligent person Male / person Male               Baidu  1.53426878 4.11474287\n",
       "7  intelligent person Female / person Female           Bing   0.63282371 1.01356314\n",
       "8  intelligent person Female / intelligent person Male Bing   0.11362660 0.18848394\n",
       "9  intelligent person Female / person Male             Bing   0.14438643 0.23125676\n",
       "10 person Female / intelligent person Male             Bing   0.14438643 0.23125676\n",
       "11 person Female / person Male                         Bing   0.18378797 0.28325017\n",
       "12 intelligent person Male / person Male               Bing   0.98661836 1.58021892\n",
       "13 intelligent person Female / person Female           Google 0.28994014 0.52596841\n",
       "14 intelligent person Female / intelligent person Male Google 0.13471794 0.26255845\n",
       "15 intelligent person Female / person Male             Google 0.35757409 0.64866038\n",
       "16 person Female / intelligent person Male             Google 0.35757409 0.64866038\n",
       "17 person Female / person Male                         Google 0.95383260 1.59456877\n",
       "18 intelligent person Male / person Male               Google 1.90125487 3.44898782\n",
       "19 intelligent person Female / person Female           Yandex 1.11617732 2.01883128\n",
       "20 intelligent person Female / intelligent person Male Yandex 0.07255984 0.13110143\n",
       "21 intelligent person Female / person Male             Yandex 0.04831165 0.08738133\n",
       "22 person Female / intelligent person Male             Yandex 0.04831165 0.08738133\n",
       "23 person Female / person Male                         Yandex 0.03216720 0.05824036\n",
       "24 intelligent person Male / person Male               Yandex 0.49533609 0.89591499"
      ]
     },
     "metadata": {},
     "output_type": "display_data"
    }
   ],
   "source": [
    "# the confidence intervals here correspond to the ones in section 2.1\n",
    "confint(pairs_engine)[,c(1,2,6,7)]"
   ]
  },
  {
   "cell_type": "markdown",
   "id": "8ac9c4a7",
   "metadata": {},
   "source": [
    "### 3.2 Accross interactions"
   ]
  },
  {
   "cell_type": "code",
   "execution_count": 8,
   "id": "dce2b330",
   "metadata": {},
   "outputs": [
    {
     "data": {
      "text/html": [
       "<table class=\"dataframe\">\n",
       "<caption>A data.frame: 4 × 5</caption>\n",
       "<thead>\n",
       "\t<tr><th></th><th scope=col>query_pairwise</th><th scope=col>faces_pairwise</th><th scope=col>engine</th><th scope=col>asymp.LCL</th><th scope=col>asymp.UCL</th></tr>\n",
       "\t<tr><th></th><th scope=col>&lt;fct&gt;</th><th scope=col>&lt;fct&gt;</th><th scope=col>&lt;fct&gt;</th><th scope=col>&lt;dbl&gt;</th><th scope=col>&lt;dbl&gt;</th></tr>\n",
       "</thead>\n",
       "<tbody>\n",
       "\t<tr><th scope=row>1</th><td>intelligent person / person</td><td>Female / Male</td><td>Baidu </td><td>0.09303114</td><td>0.2697015</td></tr>\n",
       "\t<tr><th scope=row>2</th><td>intelligent person / person</td><td>Female / Male</td><td>Bing  </td><td>0.49755452</td><td>0.8268494</td></tr>\n",
       "\t<tr><th scope=row>3</th><td>intelligent person / person</td><td>Female / Male</td><td>Google</td><td>0.11059626</td><td>0.2102788</td></tr>\n",
       "\t<tr><th scope=row>4</th><td>intelligent person / person</td><td>Female / Male</td><td>Yandex</td><td>1.63680014</td><td>3.1022071</td></tr>\n",
       "</tbody>\n",
       "</table>\n"
      ],
      "text/latex": [
       "A data.frame: 4 × 5\n",
       "\\begin{tabular}{r|lllll}\n",
       "  & query\\_pairwise & faces\\_pairwise & engine & asymp.LCL & asymp.UCL\\\\\n",
       "  & <fct> & <fct> & <fct> & <dbl> & <dbl>\\\\\n",
       "\\hline\n",
       "\t1 & intelligent person / person & Female / Male & Baidu  & 0.09303114 & 0.2697015\\\\\n",
       "\t2 & intelligent person / person & Female / Male & Bing   & 0.49755452 & 0.8268494\\\\\n",
       "\t3 & intelligent person / person & Female / Male & Google & 0.11059626 & 0.2102788\\\\\n",
       "\t4 & intelligent person / person & Female / Male & Yandex & 1.63680014 & 3.1022071\\\\\n",
       "\\end{tabular}\n"
      ],
      "text/markdown": [
       "\n",
       "A data.frame: 4 × 5\n",
       "\n",
       "| <!--/--> | query_pairwise &lt;fct&gt; | faces_pairwise &lt;fct&gt; | engine &lt;fct&gt; | asymp.LCL &lt;dbl&gt; | asymp.UCL &lt;dbl&gt; |\n",
       "|---|---|---|---|---|---|\n",
       "| 1 | intelligent person / person | Female / Male | Baidu  | 0.09303114 | 0.2697015 |\n",
       "| 2 | intelligent person / person | Female / Male | Bing   | 0.49755452 | 0.8268494 |\n",
       "| 3 | intelligent person / person | Female / Male | Google | 0.11059626 | 0.2102788 |\n",
       "| 4 | intelligent person / person | Female / Male | Yandex | 1.63680014 | 3.1022071 |\n",
       "\n"
      ],
      "text/plain": [
       "  query_pairwise              faces_pairwise engine asymp.LCL  asymp.UCL\n",
       "1 intelligent person / person Female / Male  Baidu  0.09303114 0.2697015\n",
       "2 intelligent person / person Female / Male  Bing   0.49755452 0.8268494\n",
       "3 intelligent person / person Female / Male  Google 0.11059626 0.2102788\n",
       "4 intelligent person / person Female / Male  Yandex 1.63680014 3.1022071"
      ]
     },
     "metadata": {},
     "output_type": "display_data"
    }
   ],
   "source": [
    "# the confidence intervals here correspond to the ones in section 2.2\n",
    "confint(pairs_interaction)[,c(1,2,3,7,8)]"
   ]
  },
  {
   "cell_type": "code",
   "execution_count": null,
   "id": "78bec53d",
   "metadata": {},
   "outputs": [],
   "source": []
  }
 ],
 "metadata": {
  "hide_input": false,
  "kernelspec": {
   "display_name": "R",
   "language": "R",
   "name": "ir"
  },
  "language_info": {
   "codemirror_mode": "r",
   "file_extension": ".r",
   "mimetype": "text/x-r-source",
   "name": "R",
   "pygments_lexer": "r",
   "version": "4.1.3"
  }
 },
 "nbformat": 4,
 "nbformat_minor": 5
}
